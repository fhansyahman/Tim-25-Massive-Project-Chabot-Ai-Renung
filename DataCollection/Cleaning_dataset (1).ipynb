{
  "nbformat": 4,
  "nbformat_minor": 0,
  "metadata": {
    "colab": {
      "provenance": []
    },
    "kernelspec": {
      "name": "python3",
      "display_name": "Python 3"
    },
    "language_info": {
      "name": "python"
    }
  },
  "cells": [
    {
      "cell_type": "code",
      "execution_count": null,
      "metadata": {
        "colab": {
          "base_uri": "https://localhost:8080/"
        },
        "id": "N8-rC36G5YUl",
        "outputId": "5217d5da-b17b-4d1c-c249-ae4c259dd865"
      },
      "outputs": [
        {
          "output_type": "stream",
          "name": "stdout",
          "text": [
            "        tag                                           patterns  \\\n",
            "0   1590140              Apa artinya memiliki penyakit mental?   \n",
            "1   2110618           Siapa yang mempengaruhi penyakit mental?   \n",
            "2   6361820              Apa yang menyebabkan penyakit mental?   \n",
            "3   9434130  Apa saja tanda -tanda peringatan penyakit mental?   \n",
            "4   7657263        Bisakah orang dengan penyakit mental pulih?   \n",
            "..      ...                                                ...   \n",
            "93  4373204  Bagaimana saya tahu jika saya minum terlalu ba...   \n",
            "94  7807643  Jika ganja berbahaya, mengapa kita melegalkannya?   \n",
            "95  4352464  Bagaimana saya bisa meyakinkan anak -anak saya...   \n",
            "96  6521784           Apa status hukum (dan bukti) minyak CBD?   \n",
            "97  3221856                          Apa bukti tentang vaping?   \n",
            "\n",
            "                                            responses  \n",
            "0   Penyakit mental adalah kondisi kesehatan yang ...  \n",
            "1   Diperkirakan bahwa penyakit mental mempengaruh...  \n",
            "2   Diperkirakan bahwa penyakit mental mempengaruh...  \n",
            "3   Gejala gangguan kesehatan mental bervariasi te...  \n",
            "4   Ketika penyembuhan dari penyakit mental, ident...  \n",
            "..                                                ...  \n",
            "93  Menyortir jika Anda minum terlalu banyak bisa ...  \n",
            "94  Asap ganja, misalnya, mengandung racun penyeba...  \n",
            "95  Anda tidak bisa.Tetapi Anda dapat mempengaruhi...  \n",
            "96  Cannabidiol or CBD is a naturally occurring co...  \n",
            "97  \"Vaping\" adalah istilah untuk menggunakan pera...  \n",
            "\n",
            "[98 rows x 3 columns]\n"
          ]
        }
      ],
      "source": [
        "import pandas as pd\n",
        "import numpy as np\n",
        "from tqdm import tqdm\n",
        "# Read the CSV file\n",
        "df = pd.read_csv('/content/mental_health.csv')\n",
        "ds = pd.read_csv('/content/translated_intents.csv')\n",
        "# Display the DataFrame\n",
        "df['tag'] = df['tag'].astype('object')\n",
        "print(df)\n",
        "\n"
      ]
    },
    {
      "cell_type": "code",
      "source": [
        "df.info()\n",
        "ds.info()"
      ],
      "metadata": {
        "colab": {
          "base_uri": "https://localhost:8080/"
        },
        "id": "iYCHX0jvIADK",
        "outputId": "95ea2370-31fa-449f-916e-ae586bb8c24a"
      },
      "execution_count": null,
      "outputs": [
        {
          "output_type": "stream",
          "name": "stdout",
          "text": [
            "<class 'pandas.core.frame.DataFrame'>\n",
            "RangeIndex: 98 entries, 0 to 97\n",
            "Data columns (total 3 columns):\n",
            " #   Column     Non-Null Count  Dtype \n",
            "---  ------     --------------  ----- \n",
            " 0   tag        98 non-null     object\n",
            " 1   patterns   98 non-null     object\n",
            " 2   responses  98 non-null     object\n",
            "dtypes: object(3)\n",
            "memory usage: 2.4+ KB\n",
            "<class 'pandas.core.frame.DataFrame'>\n",
            "RangeIndex: 80 entries, 0 to 79\n",
            "Data columns (total 3 columns):\n",
            " #   Column     Non-Null Count  Dtype \n",
            "---  ------     --------------  ----- \n",
            " 0   tag        80 non-null     object\n",
            " 1   patterns   80 non-null     object\n",
            " 2   responses  80 non-null     object\n",
            "dtypes: object(3)\n",
            "memory usage: 2.0+ KB\n"
          ]
        }
      ]
    },
    {
      "cell_type": "code",
      "source": [
        "# there are null values on FullText, drop it\n",
        "\n",
        "df = df.dropna()\n",
        "ds = ds.dropna()\n",
        "df.info()\n",
        "ds.info()"
      ],
      "metadata": {
        "colab": {
          "base_uri": "https://localhost:8080/"
        },
        "id": "90fhqCUMIBT4",
        "outputId": "cf6194b1-b118-485e-81a6-d230af7de29d"
      },
      "execution_count": null,
      "outputs": [
        {
          "output_type": "stream",
          "name": "stdout",
          "text": [
            "<class 'pandas.core.frame.DataFrame'>\n",
            "RangeIndex: 98 entries, 0 to 97\n",
            "Data columns (total 3 columns):\n",
            " #   Column     Non-Null Count  Dtype \n",
            "---  ------     --------------  ----- \n",
            " 0   tag        98 non-null     int64 \n",
            " 1   patterns   98 non-null     object\n",
            " 2   responses  98 non-null     object\n",
            "dtypes: int64(1), object(2)\n",
            "memory usage: 2.4+ KB\n",
            "<class 'pandas.core.frame.DataFrame'>\n",
            "RangeIndex: 80 entries, 0 to 79\n",
            "Data columns (total 3 columns):\n",
            " #   Column     Non-Null Count  Dtype \n",
            "---  ------     --------------  ----- \n",
            " 0   tag        80 non-null     object\n",
            " 1   patterns   80 non-null     object\n",
            " 2   responses  80 non-null     object\n",
            "dtypes: object(3)\n",
            "memory usage: 2.0+ KB\n"
          ]
        }
      ]
    },
    {
      "cell_type": "code",
      "source": [
        "\n",
        "\n",
        "# Fungsi untuk membersihkan teks\n",
        "def clean_text(text):\n",
        "    # Menghapus '\\n', '\\r', dan '\\t'\n",
        "    text = text.replace('\\n', ' ').replace('\\r', ' ').replace('\\t', ' ')\n",
        "\n",
        "    # Menghapus penggunaan ganda dari '='\n",
        "    text = re.sub(r'=+', '=', text)\n",
        "\n",
        "    # Menghapus karakter non-ASCII\n",
        "    text = re.sub(r'[^\\x00-\\x7F]+', ' ', text)\n",
        "\n",
        "    # Menghapus spasi ganda\n",
        "    text = re.sub(r'\\s+', ' ', text)\n",
        "\n",
        "    # Menghapus spasi di awal dan akhir\n",
        "    text = text.strip()\n",
        "\n",
        "    return text\n",
        "\n",
        "# Terapkan fungsi pada kolom yang diinginkan\n",
        "\n",
        "df['patterns'] = df['patterns'].apply(clean_text)\n",
        "df['responses'] = df['responses'].apply(clean_text)\n",
        "ds['patterns'] = ds['patterns'].apply(clean_text)\n",
        "ds['responses'] = ds['responses'].apply(clean_text)\n",
        "# Menampilkan DataFrame yang telah dibersihkan\n",
        "print(df)\n"
      ],
      "metadata": {
        "colab": {
          "base_uri": "https://localhost:8080/"
        },
        "id": "rh7gufXNPkPq",
        "outputId": "0e3a9706-4d75-4657-ac09-739222a7b232"
      },
      "execution_count": null,
      "outputs": [
        {
          "output_type": "stream",
          "name": "stdout",
          "text": [
            "        tag                                           patterns  \\\n",
            "0   1590140              Apa artinya memiliki penyakit mental?   \n",
            "1   2110618           Siapa yang mempengaruhi penyakit mental?   \n",
            "2   6361820              Apa yang menyebabkan penyakit mental?   \n",
            "3   9434130  Apa saja tanda -tanda peringatan penyakit mental?   \n",
            "4   7657263        Bisakah orang dengan penyakit mental pulih?   \n",
            "..      ...                                                ...   \n",
            "93  4373204  Bagaimana saya tahu jika saya minum terlalu ba...   \n",
            "94  7807643  Jika ganja berbahaya, mengapa kita melegalkannya?   \n",
            "95  4352464  Bagaimana saya bisa meyakinkan anak -anak saya...   \n",
            "96  6521784           Apa status hukum (dan bukti) minyak CBD?   \n",
            "97  3221856                          Apa bukti tentang vaping?   \n",
            "\n",
            "                                            responses  \n",
            "0   Penyakit mental adalah kondisi kesehatan yang ...  \n",
            "1   Diperkirakan bahwa penyakit mental mempengaruh...  \n",
            "2   Diperkirakan bahwa penyakit mental mempengaruh...  \n",
            "3   Gejala gangguan kesehatan mental bervariasi te...  \n",
            "4   Ketika penyembuhan dari penyakit mental, ident...  \n",
            "..                                                ...  \n",
            "93  Menyortir jika Anda minum terlalu banyak bisa ...  \n",
            "94  Asap ganja, misalnya, mengandung racun penyeba...  \n",
            "95  Anda tidak bisa.Tetapi Anda dapat mempengaruhi...  \n",
            "96  Cannabidiol or CBD is a naturally occurring co...  \n",
            "97  \"Vaping\" adalah istilah untuk menggunakan pera...  \n",
            "\n",
            "[98 rows x 3 columns]\n"
          ]
        }
      ]
    },
    {
      "cell_type": "code",
      "source": [
        "df['patterns'].str.len().hist().set_yscale('log')\n",
        "ds['patterns'].str.len().hist().set_yscale('log')"
      ],
      "metadata": {
        "colab": {
          "base_uri": "https://localhost:8080/",
          "height": 430
        },
        "id": "I7ZvEvijIEgQ",
        "outputId": "93a69750-c8bf-40df-fbd4-22e1aec992ea"
      },
      "execution_count": null,
      "outputs": [
        {
          "output_type": "display_data",
          "data": {
            "text/plain": [
              "<Figure size 640x480 with 1 Axes>"
            ],
            "image/png": "[encoded data removed]"
          },
          "metadata": {}
        }
      ]
    },
    {
      "cell_type": "code",
      "source": [
        "df['responses'].str.len().hist().set_yscale('log')\n",
        "ds['responses'].str.len().hist().set_yscale('log')"
      ],
      "metadata": {
        "colab": {
          "base_uri": "https://localhost:8080/",
          "height": 430
        },
        "id": "ZGOKwfS0IeD6",
        "outputId": "08021c54-82fc-4fa0-90f5-6f8b71f23597"
      },
      "execution_count": null,
      "outputs": [
        {
          "output_type": "display_data",
          "data": {
            "text/plain": [
              "<Figure size 640x480 with 1 Axes>"
            ],
            "image/png": "[encoded data removed]"
          },
          "metadata": {}
        }
      ]
    },
    {
      "cell_type": "code",
      "source": [
        "df.to_csv('/content/mental_health_cleaned.csv', index=False)\n",
        "ds.to_csv('/content/mental_instents_cleaned.csv', index=False)"
      ],
      "metadata": {
        "id": "EsX-HiKnQTRS"
      },
      "execution_count": null,
      "outputs": []
    }
  ]
}