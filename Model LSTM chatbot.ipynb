{
  "metadata": {
    "kernelspec": {
      "language": "python",
      "display_name": "Python 3",
      "name": "python3"
    },
    "language_info": {
      "name": "python",
      "version": "3.10.12",
      "mimetype": "text/x-python",
      "codemirror_mode": {
        "name": "ipython",
        "version": 3
      },
      "pygments_lexer": "ipython3",
      "nbconvert_exporter": "python",
      "file_extension": ".py"
    },
    "kaggle": {
      "accelerator": "none",
      "dataSources": [
        {
          "sourceId": 6717888,
          "sourceType": "datasetVersion",
          "datasetId": 3870587
        },
        {
          "sourceId": 8596864,
          "sourceType": "datasetVersion",
          "datasetId": 5143057
        }
      ],
      "dockerImageVersionId": 30558,
      "isInternetEnabled": false,
      "language": "python",
      "sourceType": "notebook",
      "isGpuEnabled": false
    },
    "colab": {
      "provenance": []
    }
  },
  "nbformat_minor": 0,
  "nbformat": 4,
  "cells": [
    {
      "cell_type": "code",
      "source": [
        "import json\n",
        "import random\n",
        "\n",
        "from sklearn.model_selection import train_test_split\n",
        "from sklearn.preprocessing import LabelEncoder\n",
        "from tensorflow.keras.models import Sequential\n",
        "from tensorflow.keras.layers import Embedding, LSTM, Dense\n",
        "from tensorflow.keras.preprocessing.text import Tokenizer\n",
        "from tensorflow.keras.preprocessing.sequence import pad_sequences\n",
        "\n",
        "import matplotlib.pyplot as plt"
      ],
      "metadata": {
        "_uuid": "8f2839f25d086af736a60e9eeb907d3b93b6e0e5",
        "_cell_guid": "b1076dfc-b9ad-4769-8c92-a6c4dae69d19",
        "execution": {
          "iopub.status.busy": "2024-06-03T18:17:25.055655Z",
          "iopub.execute_input": "2024-06-03T18:17:25.056089Z",
          "iopub.status.idle": "2024-06-03T18:17:25.063934Z",
          "shell.execute_reply.started": "2024-06-03T18:17:25.056056Z",
          "shell.execute_reply": "2024-06-03T18:17:25.062404Z"
        },
        "trusted": true,
        "id": "Ty5rYBeyCwcq"
      },
      "execution_count": 51,
      "outputs": []
    },
    {
      "cell_type": "markdown",
      "source": [
        "# PREPROCESS DATA"
      ],
      "metadata": {
        "id": "qHPEeESUCwcs"
      }
    },
    {
      "cell_type": "code",
      "source": [
        "data_path = '/content/translated_intents.json'"
      ],
      "metadata": {
        "execution": {
          "iopub.status.busy": "2024-06-03T18:17:25.066513Z",
          "iopub.execute_input": "2024-06-03T18:17:25.067536Z",
          "iopub.status.idle": "2024-06-03T18:17:25.084449Z",
          "shell.execute_reply.started": "2024-06-03T18:17:25.067477Z",
          "shell.execute_reply": "2024-06-03T18:17:25.082660Z"
        },
        "trusted": true,
        "id": "7JC5Eq3vCwcu"
      },
      "execution_count": 52,
      "outputs": []
    },
    {
      "cell_type": "code",
      "source": [
        "with open(data_path, 'r') as f:\n",
        "    data = json.load(f)"
      ],
      "metadata": {
        "execution": {
          "iopub.status.busy": "2024-06-03T18:17:25.087342Z",
          "iopub.execute_input": "2024-06-03T18:17:25.088530Z",
          "iopub.status.idle": "2024-06-03T18:17:25.106652Z",
          "shell.execute_reply.started": "2024-06-03T18:17:25.088487Z",
          "shell.execute_reply": "2024-06-03T18:17:25.104756Z"
        },
        "trusted": true,
        "id": "pGUSXsoXCwcu"
      },
      "execution_count": 53,
      "outputs": []
    },
    {
      "cell_type": "code",
      "source": [
        "intents = data['intents']"
      ],
      "metadata": {
        "execution": {
          "iopub.status.busy": "2024-06-03T18:17:25.108733Z",
          "iopub.execute_input": "2024-06-03T18:17:25.110142Z",
          "iopub.status.idle": "2024-06-03T18:17:25.121669Z",
          "shell.execute_reply.started": "2024-06-03T18:17:25.110086Z",
          "shell.execute_reply": "2024-06-03T18:17:25.120169Z"
        },
        "trusted": true,
        "id": "lHcGy386Cwcu"
      },
      "execution_count": 54,
      "outputs": []
    },
    {
      "cell_type": "code",
      "source": [
        "X = []\n",
        "y = []\n",
        "\n",
        "# Flatten the list of lists y\n",
        "y_flat = [response for sublist in y for response in sublist]\n",
        "\n",
        "for intent in intents:\n",
        "    for pattern, response in zip(intent['patterns'], intent['responses']):\n",
        "        X.append(pattern)\n",
        "        y.append(response)"
      ],
      "metadata": {
        "execution": {
          "iopub.status.busy": "2024-06-03T18:17:25.126012Z",
          "iopub.execute_input": "2024-06-03T18:17:25.127510Z",
          "iopub.status.idle": "2024-06-03T18:17:25.142302Z",
          "shell.execute_reply.started": "2024-06-03T18:17:25.127448Z",
          "shell.execute_reply": "2024-06-03T18:17:25.141122Z"
        },
        "trusted": true,
        "id": "6_ZPDAshCwcu"
      },
      "execution_count": 55,
      "outputs": []
    },
    {
      "cell_type": "code",
      "source": [
        "\n",
        "for i in range(10):\n",
        "    print(f'Text \"{X[i]}\" is labeled \"{y[i]}\"')"
      ],
      "metadata": {
        "execution": {
          "iopub.status.busy": "2024-06-03T18:17:25.144257Z",
          "iopub.execute_input": "2024-06-03T18:17:25.145115Z",
          "iopub.status.idle": "2024-06-03T18:17:25.160269Z",
          "shell.execute_reply.started": "2024-06-03T18:17:25.145064Z",
          "shell.execute_reply": "2024-06-03T18:17:25.158515Z"
        },
        "trusted": true,
        "colab": {
          "base_uri": "https://localhost:8080/"
        },
        "id": "JtmzHFbaCwcv",
        "outputId": "18a044c9-7f2a-4ce4-a887-a3ecda822084"
      },
      "execution_count": 56,
      "outputs": [
        {
          "output_type": "stream",
          "name": "stdout",
          "text": [
            "Text \"Hai\" is labeled \"Halo yang disana.Katakan padaku bagaimana perasaanmu hari ini?\"\n",
            "Text \"Hai\" is labeled \"Hai, yang di sana.Apa yang membawamu ke sini hari ini?\"\n",
            "Text \"Apakah ada orang di sana?\" is labeled \"Hai, yang di sana.Bagaimana perasaan Anda hari ini?\"\n",
            "Text \"Hai, yang di sana\" is labeled \"Senang bertemu denganmu.Bagaimana perasaan Anda saat ini?\"\n",
            "Text \"Halo\" is labeled \"Halo yang disana.Senang melihat Anda kembali.Apa yang terjadi di dunia Anda saat ini?\"\n",
            "Text \"Selamat pagi\" is labeled \"Selamat pagi.Saya harap Anda tidur nyenyak.Bagaimana perasaan Anda hari ini?\"\n",
            "Text \"Selamat siang\" is labeled \"Selamat siang.Bagaimana hari mu?\"\n",
            "Text \"Selamat malam\" is labeled \"Selamat malam.Bagaimana harimu?\"\n",
            "Text \"Selamat malam\" is labeled \"Selamat malam.Tidur nyenyak\"\n",
            "Text \"Selamat tinggal\" is labeled \"Sampai jumpa lagi.\"\n"
          ]
        }
      ]
    },
    {
      "cell_type": "code",
      "source": [
        "tokenizer = Tokenizer()\n",
        "tokenizer.fit_on_texts(X)\n",
        "\n",
        "X = tokenizer.texts_to_sequences(X)\n",
        "X = pad_sequences(X)\n",
        "\n",
        "num_classes = len(set(y))\n",
        "label_encoder = LabelEncoder()\n",
        "y_encoded = label_encoder.fit_transform(y)\n"
      ],
      "metadata": {
        "execution": {
          "iopub.status.busy": "2024-06-03T18:17:25.162177Z",
          "iopub.execute_input": "2024-06-03T18:17:25.162683Z",
          "iopub.status.idle": "2024-06-03T18:17:25.217908Z",
          "shell.execute_reply.started": "2024-06-03T18:17:25.162627Z",
          "shell.execute_reply": "2024-06-03T18:17:25.216929Z"
        },
        "trusted": true,
        "id": "ddwVT7nCCwcv"
      },
      "execution_count": 57,
      "outputs": []
    },
    {
      "cell_type": "markdown",
      "source": [
        "# PREPARE MODEL"
      ],
      "metadata": {
        "id": "JPPRIxhBCwcw"
      }
    },
    {
      "cell_type": "code",
      "source": [
        "model = Sequential([\n",
        "    Embedding(input_dim=len(tokenizer.word_index) + 1, output_dim=128, input_length=X.shape[1]),\n",
        "    LSTM(128),\n",
        "    Dense(num_classes, activation='softmax')\n",
        "])\n",
        "\n",
        "model.compile(optimizer='adam', loss='sparse_categorical_crossentropy', metrics=['accuracy'])\n"
      ],
      "metadata": {
        "execution": {
          "iopub.status.busy": "2024-06-03T18:17:25.219292Z",
          "iopub.execute_input": "2024-06-03T18:17:25.220560Z",
          "iopub.status.idle": "2024-06-03T18:17:25.618905Z",
          "shell.execute_reply.started": "2024-06-03T18:17:25.220521Z",
          "shell.execute_reply": "2024-06-03T18:17:25.617234Z"
        },
        "trusted": true,
        "id": "ll4hgmYpCwcw"
      },
      "execution_count": 58,
      "outputs": []
    },
    {
      "cell_type": "markdown",
      "source": [
        "# TRAIN"
      ],
      "metadata": {
        "id": "mL_g1abOCwcw"
      }
    },
    {
      "cell_type": "code",
      "source": [
        "EPOCHS = 50\n",
        "BATCH_SIZE = 32\n",
        "\n",
        "history = model.fit(X, y_encoded, epochs=EPOCHS, batch_size=BATCH_SIZE, validation_data=(X, y_encoded))\n",
        "model.save('/content/my_model_NLP.h5')"
      ],
      "metadata": {
        "execution": {
          "iopub.status.busy": "2024-06-03T18:17:25.620502Z",
          "iopub.execute_input": "2024-06-03T18:17:25.620907Z",
          "iopub.status.idle": "2024-06-03T18:18:03.437495Z",
          "shell.execute_reply.started": "2024-06-03T18:17:25.620872Z",
          "shell.execute_reply": "2024-06-03T18:18:03.436259Z"
        },
        "trusted": true,
        "colab": {
          "base_uri": "https://localhost:8080/"
        },
        "id": "GCAgkyZeCwcw",
        "outputId": "3a5d6a00-9fa9-47aa-a73a-0fa7a1579c8f"
      },
      "execution_count": 59,
      "outputs": [
        {
          "output_type": "stream",
          "name": "stdout",
          "text": [
            "Epoch 1/50\n",
            "8/8 [==============================] - 4s 286ms/step - loss: 5.4415 - accuracy: 0.0041 - val_loss: 5.4283 - val_accuracy: 0.1016\n",
            "Epoch 2/50\n",
            "8/8 [==============================] - 1s 103ms/step - loss: 5.4265 - accuracy: 0.0976 - val_loss: 5.4178 - val_accuracy: 0.2480\n",
            "Epoch 3/50\n",
            "8/8 [==============================] - 1s 116ms/step - loss: 5.4149 - accuracy: 0.2276 - val_loss: 5.4044 - val_accuracy: 0.3008\n",
            "Epoch 4/50\n",
            "8/8 [==============================] - 1s 118ms/step - loss: 5.3998 - accuracy: 0.2602 - val_loss: 5.3830 - val_accuracy: 0.2114\n",
            "Epoch 5/50\n",
            "8/8 [==============================] - 1s 124ms/step - loss: 5.3856 - accuracy: 0.0813 - val_loss: 5.3471 - val_accuracy: 0.0854\n",
            "Epoch 6/50\n",
            "8/8 [==============================] - 1s 120ms/step - loss: 5.3480 - accuracy: 0.1748 - val_loss: 5.3267 - val_accuracy: 0.1992\n",
            "Epoch 7/50\n",
            "8/8 [==============================] - 1s 104ms/step - loss: 5.3037 - accuracy: 0.1260 - val_loss: 5.1985 - val_accuracy: 0.0650\n",
            "Epoch 8/50\n",
            "8/8 [==============================] - 2s 205ms/step - loss: 5.1844 - accuracy: 0.0407 - val_loss: 5.0910 - val_accuracy: 0.0488\n",
            "Epoch 9/50\n",
            "8/8 [==============================] - 2s 228ms/step - loss: 5.0681 - accuracy: 0.0528 - val_loss: 4.9076 - val_accuracy: 0.0772\n",
            "Epoch 10/50\n",
            "8/8 [==============================] - 1s 141ms/step - loss: 4.8514 - accuracy: 0.0488 - val_loss: 4.6704 - val_accuracy: 0.0691\n",
            "Epoch 11/50\n",
            "8/8 [==============================] - 1s 107ms/step - loss: 4.6406 - accuracy: 0.0813 - val_loss: 4.4635 - val_accuracy: 0.0935\n",
            "Epoch 12/50\n",
            "8/8 [==============================] - 1s 121ms/step - loss: 4.4227 - accuracy: 0.0813 - val_loss: 4.2460 - val_accuracy: 0.0935\n",
            "Epoch 13/50\n",
            "8/8 [==============================] - 1s 118ms/step - loss: 4.2302 - accuracy: 0.1016 - val_loss: 4.0335 - val_accuracy: 0.1220\n",
            "Epoch 14/50\n",
            "8/8 [==============================] - 1s 119ms/step - loss: 4.0101 - accuracy: 0.1260 - val_loss: 3.8443 - val_accuracy: 0.1707\n",
            "Epoch 15/50\n",
            "8/8 [==============================] - 1s 94ms/step - loss: 3.8131 - accuracy: 0.1504 - val_loss: 3.6455 - val_accuracy: 0.2195\n",
            "Epoch 16/50\n",
            "8/8 [==============================] - 1s 100ms/step - loss: 3.6064 - accuracy: 0.1951 - val_loss: 3.4342 - val_accuracy: 0.2520\n",
            "Epoch 17/50\n",
            "8/8 [==============================] - 1s 97ms/step - loss: 3.4276 - accuracy: 0.3089 - val_loss: 3.2396 - val_accuracy: 0.3699\n",
            "Epoch 18/50\n",
            "8/8 [==============================] - 1s 95ms/step - loss: 3.2200 - accuracy: 0.3577 - val_loss: 3.0358 - val_accuracy: 0.4350\n",
            "Epoch 19/50\n",
            "8/8 [==============================] - 1s 100ms/step - loss: 3.0227 - accuracy: 0.4187 - val_loss: 2.8414 - val_accuracy: 0.4837\n",
            "Epoch 20/50\n",
            "8/8 [==============================] - 1s 116ms/step - loss: 2.8136 - accuracy: 0.5122 - val_loss: 2.6478 - val_accuracy: 0.5488\n",
            "Epoch 21/50\n",
            "8/8 [==============================] - 1s 116ms/step - loss: 2.6598 - accuracy: 0.5935 - val_loss: 2.5248 - val_accuracy: 0.7033\n",
            "Epoch 22/50\n",
            "8/8 [==============================] - 1s 197ms/step - loss: 2.4924 - accuracy: 0.6626 - val_loss: 2.3578 - val_accuracy: 0.7358\n",
            "Epoch 23/50\n",
            "8/8 [==============================] - 1s 192ms/step - loss: 2.3299 - accuracy: 0.7276 - val_loss: 2.1860 - val_accuracy: 0.8008\n",
            "Epoch 24/50\n",
            "8/8 [==============================] - 2s 199ms/step - loss: 2.1650 - accuracy: 0.7683 - val_loss: 2.0326 - val_accuracy: 0.8089\n",
            "Epoch 25/50\n",
            "8/8 [==============================] - 1s 133ms/step - loss: 2.0255 - accuracy: 0.7683 - val_loss: 1.8959 - val_accuracy: 0.8252\n",
            "Epoch 26/50\n",
            "8/8 [==============================] - 1s 109ms/step - loss: 1.8852 - accuracy: 0.7927 - val_loss: 1.7639 - val_accuracy: 0.8659\n",
            "Epoch 27/50\n",
            "8/8 [==============================] - 1s 123ms/step - loss: 1.7692 - accuracy: 0.8293 - val_loss: 1.6495 - val_accuracy: 0.8740\n",
            "Epoch 28/50\n",
            "8/8 [==============================] - 1s 105ms/step - loss: 1.6421 - accuracy: 0.8537 - val_loss: 1.5499 - val_accuracy: 0.8780\n",
            "Epoch 29/50\n",
            "8/8 [==============================] - 1s 117ms/step - loss: 1.5525 - accuracy: 0.8659 - val_loss: 1.4392 - val_accuracy: 0.8902\n",
            "Epoch 30/50\n",
            "8/8 [==============================] - 1s 99ms/step - loss: 1.4477 - accuracy: 0.8659 - val_loss: 1.3430 - val_accuracy: 0.8821\n",
            "Epoch 31/50\n",
            "8/8 [==============================] - 1s 110ms/step - loss: 1.3419 - accuracy: 0.8618 - val_loss: 1.2470 - val_accuracy: 0.8943\n",
            "Epoch 32/50\n",
            "8/8 [==============================] - 1s 122ms/step - loss: 1.2453 - accuracy: 0.8699 - val_loss: 1.1730 - val_accuracy: 0.8984\n",
            "Epoch 33/50\n",
            "8/8 [==============================] - 1s 104ms/step - loss: 1.1696 - accuracy: 0.8862 - val_loss: 1.0928 - val_accuracy: 0.9024\n",
            "Epoch 34/50\n",
            "8/8 [==============================] - 1s 103ms/step - loss: 1.0934 - accuracy: 0.8821 - val_loss: 1.0217 - val_accuracy: 0.9024\n",
            "Epoch 35/50\n",
            "8/8 [==============================] - 1s 100ms/step - loss: 1.0301 - accuracy: 0.8659 - val_loss: 0.9741 - val_accuracy: 0.9024\n",
            "Epoch 36/50\n",
            "8/8 [==============================] - 1s 97ms/step - loss: 0.9628 - accuracy: 0.8699 - val_loss: 0.9059 - val_accuracy: 0.9106\n",
            "Epoch 37/50\n",
            "8/8 [==============================] - 1s 186ms/step - loss: 0.9012 - accuracy: 0.8780 - val_loss: 0.8390 - val_accuracy: 0.8984\n",
            "Epoch 38/50\n",
            "8/8 [==============================] - 2s 224ms/step - loss: 0.8474 - accuracy: 0.8902 - val_loss: 0.7871 - val_accuracy: 0.9065\n",
            "Epoch 39/50\n",
            "8/8 [==============================] - 1s 136ms/step - loss: 0.7937 - accuracy: 0.8780 - val_loss: 0.7468 - val_accuracy: 0.9024\n",
            "Epoch 40/50\n",
            "8/8 [==============================] - 1s 105ms/step - loss: 0.7497 - accuracy: 0.8902 - val_loss: 0.6999 - val_accuracy: 0.9106\n",
            "Epoch 41/50\n",
            "8/8 [==============================] - 1s 100ms/step - loss: 0.7084 - accuracy: 0.8902 - val_loss: 0.6611 - val_accuracy: 0.9106\n",
            "Epoch 42/50\n",
            "8/8 [==============================] - 1s 100ms/step - loss: 0.6663 - accuracy: 0.8943 - val_loss: 0.6281 - val_accuracy: 0.9106\n",
            "Epoch 43/50\n",
            "8/8 [==============================] - 1s 106ms/step - loss: 0.6352 - accuracy: 0.8984 - val_loss: 0.5866 - val_accuracy: 0.9106\n",
            "Epoch 44/50\n",
            "8/8 [==============================] - 1s 105ms/step - loss: 0.5985 - accuracy: 0.8659 - val_loss: 0.5607 - val_accuracy: 0.9106\n",
            "Epoch 45/50\n",
            "8/8 [==============================] - 1s 127ms/step - loss: 0.5687 - accuracy: 0.8862 - val_loss: 0.5397 - val_accuracy: 0.9106\n",
            "Epoch 46/50\n",
            "8/8 [==============================] - 1s 122ms/step - loss: 0.5470 - accuracy: 0.8699 - val_loss: 0.5124 - val_accuracy: 0.9106\n",
            "Epoch 47/50\n",
            "8/8 [==============================] - 1s 116ms/step - loss: 0.5180 - accuracy: 0.8821 - val_loss: 0.4808 - val_accuracy: 0.9106\n",
            "Epoch 48/50\n",
            "8/8 [==============================] - 1s 100ms/step - loss: 0.4886 - accuracy: 0.8780 - val_loss: 0.4592 - val_accuracy: 0.9106\n",
            "Epoch 49/50\n",
            "8/8 [==============================] - 1s 119ms/step - loss: 0.4677 - accuracy: 0.8943 - val_loss: 0.4387 - val_accuracy: 0.9106\n",
            "Epoch 50/50\n",
            "8/8 [==============================] - 1s 104ms/step - loss: 0.4445 - accuracy: 0.9024 - val_loss: 0.4204 - val_accuracy: 0.9106\n"
          ]
        },
        {
          "output_type": "stream",
          "name": "stderr",
          "text": [
            "/usr/local/lib/python3.10/dist-packages/keras/src/engine/training.py:3103: UserWarning: You are saving your model as an HDF5 file via `model.save()`. This file format is considered legacy. We recommend using instead the native Keras format, e.g. `model.save('my_model.keras')`.\n",
            "  saving_api.save_model(\n"
          ]
        }
      ]
    },
    {
      "cell_type": "code",
      "source": [
        "# Plotting\n",
        "plt.figure(figsize=(12, 4))\n",
        "epochs = range(1, EPOCHS + 1)\n",
        "\n",
        "# Plot Loss\n",
        "plt.subplot(1, 2, 1)\n",
        "plt.plot(epochs, history.history['loss'], label='Training Loss', marker='o')\n",
        "plt.plot(epochs, history.history['val_loss'], label='Validation Loss', marker='o')\n",
        "plt.xlabel('Epochs')\n",
        "plt.ylabel('Loss (%)')\n",
        "plt.grid()\n",
        "plt.legend()\n",
        "\n",
        "# Plot Accuracy\n",
        "plt.subplot(1, 2, 2)\n",
        "plt.plot(epochs, history.history['accuracy'], label='Training Accuracy', marker='o')\n",
        "plt.plot(epochs, history.history['val_accuracy'], label='Validation Accuracy', marker='o')\n",
        "plt.xlabel('Epochs')\n",
        "plt.ylabel('Accuracy (%)')\n",
        "plt.grid()\n",
        "plt.legend()\n",
        "\n",
        "plt.tight_layout()\n",
        "plt.show()"
      ],
      "metadata": {
        "execution": {
          "iopub.status.busy": "2024-06-03T18:18:03.441012Z",
          "iopub.execute_input": "2024-06-03T18:18:03.441447Z",
          "iopub.status.idle": "2024-06-03T18:18:04.092045Z",
          "shell.execute_reply.started": "2024-06-03T18:18:03.441396Z",
          "shell.execute_reply": "2024-06-03T18:18:04.090674Z"
        },
        "trusted": true,
        "colab": {
          "base_uri": "https://localhost:8080/",
          "height": 345
        },
        "id": "FKE_WHqNCwcx",
        "outputId": "92bde66f-454d-48f9-deed-9852fdb52cd9"
      },
      "execution_count": 60,
      "outputs": [
        {
          "output_type": "display_data",
          "data": {
            "text/plain": [
              "<Figure size 1200x400 with 2 Axes>"
            ],
            "image/png": "[encoded data removed]"
          },
          "metadata": {}
        }
      ]
    },
    {
      "cell_type": "markdown",
      "source": [
        "# PREDICT"
      ],
      "metadata": {
        "id": "Sm3Ty9wQCwcx"
      }
    },
    {
      "cell_type": "code",
      "source": [
        "from tensorflow.keras.models import load_model"
      ],
      "metadata": {
        "execution": {
          "iopub.status.busy": "2024-06-03T18:18:04.093864Z",
          "iopub.execute_input": "2024-06-03T18:18:04.094275Z",
          "iopub.status.idle": "2024-06-03T18:18:04.099415Z",
          "shell.execute_reply.started": "2024-06-03T18:18:04.094243Z",
          "shell.execute_reply": "2024-06-03T18:18:04.098412Z"
        },
        "trusted": true,
        "id": "O3KeNmvJCwcx"
      },
      "execution_count": 61,
      "outputs": []
    },
    {
      "cell_type": "code",
      "source": [],
      "metadata": {
        "execution": {
          "iopub.status.busy": "2024-06-03T18:18:04.100534Z",
          "iopub.execute_input": "2024-06-03T18:18:04.101069Z",
          "iopub.status.idle": "2024-06-03T18:18:04.520218Z",
          "shell.execute_reply.started": "2024-06-03T18:18:04.101031Z",
          "shell.execute_reply": "2024-06-03T18:18:04.519034Z"
        },
        "trusted": true,
        "id": "DKwnVx6tCwcx"
      },
      "execution_count": 61,
      "outputs": []
    },
    {
      "cell_type": "code",
      "source": [],
      "metadata": {
        "trusted": true,
        "id": "SvsMJHH4Cwcy"
      },
      "execution_count": 61,
      "outputs": []
    },
    {
      "cell_type": "code",
      "source": [],
      "metadata": {
        "trusted": true,
        "id": "xohmuyG8Cwcy"
      },
      "execution_count": 61,
      "outputs": []
    },
    {
      "cell_type": "code",
      "source": [
        "from keras.models import load_model\n",
        "import numpy as np\n",
        "\n",
        "# Load the trained model\n",
        "model = load_model('/content/my_model_NLP.h5')\n",
        "\n",
        "# Define a function to predict intents\n",
        "def predict_intent(text):\n",
        "    # Preprocess input text using the tokenizer\n",
        "    tokenized_text = tokenizer.texts_to_sequences([text])\n",
        "    padded_text = pad_sequences(tokenized_text, maxlen=max_sequence_length)\n",
        "\n",
        "    # Predict the intent\n",
        "    predictions = model.predict(padded_text)\n",
        "\n",
        "    # Get the index of the highest probability prediction\n",
        "    predicted_index = np.argmax(predictions)\n",
        "\n",
        "    # Map the index to the corresponding label\n",
        "    predicted_label = label_encoder.inverse_transform([predicted_index])[0]\n",
        "\n",
        "    return predicted_label\n",
        "\n",
        "# Example usage\n",
        "user_input = \"Apa artinya memiliki penyakit mental?\"\n",
        "max_sequence_length = 40\n",
        "predicted_intent = predict_intent(user_input)\n",
        "print(\"Predicted intent:\", predicted_intent)\n"
      ],
      "metadata": {
        "execution": {
          "iopub.status.busy": "2024-06-03T18:45:23.088849Z",
          "iopub.execute_input": "2024-06-03T18:45:23.089249Z",
          "iopub.status.idle": "2024-06-03T18:45:24.204013Z",
          "shell.execute_reply.started": "2024-06-03T18:45:23.089217Z",
          "shell.execute_reply": "2024-06-03T18:45:24.202267Z"
        },
        "trusted": true,
        "colab": {
          "base_uri": "https://localhost:8080/"
        },
        "id": "k_gv_wbLCwcy",
        "outputId": "98be055e-8158-411b-d53e-7464b5093ea6"
      },
      "execution_count": 62,
      "outputs": [
        {
          "output_type": "stream",
          "name": "stdout",
          "text": [
            "1/1 [==============================] - 0s 415ms/step\n",
            "Predicted intent: Penyakit mental adalah kondisi kesehatan yang mengganggu pikiran, emosi, hubungan, dan fungsi sehari -hari seseorang.Mereka dikaitkan dengan kesusahan dan berkurangnya kapasitas untuk terlibat dalam kegiatan kehidupan sehari -hari yang biasa.Penyakit mental jatuh di sepanjang rangkaian keparahan: beberapa cukup ringan dan hanya mengganggu beberapa aspek kehidupan, seperti fobia tertentu.Di ujung lain spektrum terletak penyakit mental yang serius, yang mengakibatkan gangguan fungsional utama dan gangguan dengan kehidupan sehari -hari.Ini termasuk gangguan seperti depresi berat, skizofrenia, dan gangguan bipolar, dan mungkin mengharuskan orang tersebut menerima perawatan di rumah sakit.Penting untuk mengetahui bahwa penyakit mental adalah kondisi medis yang tidak ada hubungannya dengan karakter, kecerdasan, atau kemauan seseorang.Sama seperti diabetes adalah kelainan pankreas, penyakit mental adalah kondisi medis karena biologi otak.Demikian pula dengan bagaimana seseorang akan mengobati diabetes dengan obat -obatan dan insulin, penyakit mental dapat diobati dengan kombinasi obat dan dukungan sosial.Perawatan ini sangat efektif, dengan 70-90 persen orang yang menerima pengobatan mengalami pengurangan gejala dan peningkatan kualitas hidup.Dengan perawatan yang tepat, sangat mungkin bagi orang dengan penyakit mental untuk mandiri dan sukses.\n"
          ]
        }
      ]
    }
  ]
}