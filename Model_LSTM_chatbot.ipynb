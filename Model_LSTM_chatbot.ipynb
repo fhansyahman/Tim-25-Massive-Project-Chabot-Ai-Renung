{
  "metadata": {
    "kernelspec": {
      "language": "python",
      "display_name": "Python 3",
      "name": "python3"
    },
    "language_info": {
      "name": "python",
      "version": "3.10.12",
      "mimetype": "text/x-python",
      "codemirror_mode": {
        "name": "ipython",
        "version": 3
      },
      "pygments_lexer": "ipython3",
      "nbconvert_exporter": "python",
      "file_extension": ".py"
    },
    "kaggle": {
      "accelerator": "none",
      "dataSources": [
        {
          "sourceId": 6717888,
          "sourceType": "datasetVersion",
          "datasetId": 3870587
        },
        {
          "sourceId": 8596864,
          "sourceType": "datasetVersion",
          "datasetId": 5143057
        }
      ],
      "dockerImageVersionId": 30558,
      "isInternetEnabled": false,
      "language": "python",
      "sourceType": "notebook",
      "isGpuEnabled": false
    },
    "colab": {
      "provenance": []
    }
  },
  "nbformat_minor": 0,
  "nbformat": 4,
  "cells": [
    {
      "cell_type": "code",
      "source": [
        "import json\n",
        "import random\n",
        "\n",
        "from sklearn.model_selection import train_test_split\n",
        "from sklearn.preprocessing import LabelEncoder\n",
        "from tensorflow.keras.models import Sequential, load_model\n",
        "from tensorflow.keras.layers import Embedding, LSTM, Dense\n",
        "from tensorflow.keras.preprocessing.text import Tokenizer\n",
        "from tensorflow.keras.preprocessing.sequence import pad_sequences\n",
        "import pickle\n",
        "import h5py\n",
        "import matplotlib.pyplot as plt"
      ],
      "metadata": {
        "_uuid": "8f2839f25d086af736a60e9eeb907d3b93b6e0e5",
        "_cell_guid": "b1076dfc-b9ad-4769-8c92-a6c4dae69d19",
        "execution": {
          "iopub.status.busy": "2024-06-03T18:17:25.055655Z",
          "iopub.execute_input": "2024-06-03T18:17:25.056089Z",
          "iopub.status.idle": "2024-06-03T18:17:25.063934Z",
          "shell.execute_reply.started": "2024-06-03T18:17:25.056056Z",
          "shell.execute_reply": "2024-06-03T18:17:25.062404Z"
        },
        "trusted": true,
        "id": "Ty5rYBeyCwcq"
      },
      "execution_count": null,
      "outputs": []
    },
    {
      "cell_type": "markdown",
      "source": [
        "# PREPROCESS DATA"
      ],
      "metadata": {
        "id": "qHPEeESUCwcs"
      }
    },
    {
      "cell_type": "code",
      "source": [
        "data_path = '/content/translated_intents.json'"
      ],
      "metadata": {
        "execution": {
          "iopub.status.busy": "2024-06-03T18:17:25.066513Z",
          "iopub.execute_input": "2024-06-03T18:17:25.067536Z",
          "iopub.status.idle": "2024-06-03T18:17:25.084449Z",
          "shell.execute_reply.started": "2024-06-03T18:17:25.067477Z",
          "shell.execute_reply": "2024-06-03T18:17:25.082660Z"
        },
        "trusted": true,
        "id": "7JC5Eq3vCwcu"
      },
      "execution_count": null,
      "outputs": []
    },
    {
      "cell_type": "code",
      "source": [
        "with open(data_path, 'r') as f:\n",
        "    data = json.load(f)"
      ],
      "metadata": {
        "execution": {
          "iopub.status.busy": "2024-06-03T18:17:25.087342Z",
          "iopub.execute_input": "2024-06-03T18:17:25.088530Z",
          "iopub.status.idle": "2024-06-03T18:17:25.106652Z",
          "shell.execute_reply.started": "2024-06-03T18:17:25.088487Z",
          "shell.execute_reply": "2024-06-03T18:17:25.104756Z"
        },
        "trusted": true,
        "id": "pGUSXsoXCwcu"
      },
      "execution_count": null,
      "outputs": []
    },
    {
      "cell_type": "code",
      "source": [
        "intents = data['intents']"
      ],
      "metadata": {
        "execution": {
          "iopub.status.busy": "2024-06-03T18:17:25.108733Z",
          "iopub.execute_input": "2024-06-03T18:17:25.110142Z",
          "iopub.status.idle": "2024-06-03T18:17:25.121669Z",
          "shell.execute_reply.started": "2024-06-03T18:17:25.110086Z",
          "shell.execute_reply": "2024-06-03T18:17:25.120169Z"
        },
        "trusted": true,
        "id": "lHcGy386Cwcu"
      },
      "execution_count": null,
      "outputs": []
    },
    {
      "cell_type": "code",
      "source": [
        "X = []\n",
        "y = []\n",
        "\n",
        "for intent in intents:\n",
        "    for pattern, response in zip(intent['patterns'], intent['responses']):\n",
        "        X.append(pattern)\n",
        "        y.append(response)\n"
      ],
      "metadata": {
        "execution": {
          "iopub.status.busy": "2024-06-03T18:17:25.126012Z",
          "iopub.execute_input": "2024-06-03T18:17:25.127510Z",
          "iopub.status.idle": "2024-06-03T18:17:25.142302Z",
          "shell.execute_reply.started": "2024-06-03T18:17:25.127448Z",
          "shell.execute_reply": "2024-06-03T18:17:25.141122Z"
        },
        "trusted": true,
        "id": "6_ZPDAshCwcu"
      },
      "execution_count": null,
      "outputs": []
    },
    {
      "cell_type": "code",
      "source": [
        "\n",
        "for i in range(10):\n",
        "    print(f'Text \"{X[i]}\" is labeled \"{y[i]}\"')"
      ],
      "metadata": {
        "execution": {
          "iopub.status.busy": "2024-06-03T18:17:25.144257Z",
          "iopub.execute_input": "2024-06-03T18:17:25.145115Z",
          "iopub.status.idle": "2024-06-03T18:17:25.160269Z",
          "shell.execute_reply.started": "2024-06-03T18:17:25.145064Z",
          "shell.execute_reply": "2024-06-03T18:17:25.158515Z"
        },
        "trusted": true,
        "colab": {
          "base_uri": "https://localhost:8080/"
        },
        "id": "JtmzHFbaCwcv",
        "outputId": "88ba80dc-76fe-4b97-9510-4cca753449d6"
      },
      "execution_count": null,
      "outputs": [
        {
          "output_type": "stream",
          "name": "stdout",
          "text": [
            "Text \"Hai\" is labeled \"Halo yang disana.Katakan padaku bagaimana perasaanmu hari ini?\"\n",
            "Text \"Hai\" is labeled \"Hai, yang di sana.Apa yang membawamu ke sini hari ini?\"\n",
            "Text \"Apakah ada orang di sana?\" is labeled \"Hai, yang di sana.Bagaimana perasaan Anda hari ini?\"\n",
            "Text \"Hai, yang di sana\" is labeled \"Senang bertemu denganmu.Bagaimana perasaan Anda saat ini?\"\n",
            "Text \"Halo\" is labeled \"Halo yang disana.Senang melihat Anda kembali.Apa yang terjadi di dunia Anda saat ini?\"\n",
            "Text \"Selamat pagi\" is labeled \"Selamat pagi.Saya harap Anda tidur nyenyak.Bagaimana perasaan Anda hari ini?\"\n",
            "Text \"Selamat siang\" is labeled \"Selamat siang.Bagaimana hari mu?\"\n",
            "Text \"Selamat malam\" is labeled \"Selamat malam.Bagaimana harimu?\"\n",
            "Text \"Selamat malam\" is labeled \"Selamat malam.Tidur nyenyak\"\n",
            "Text \"Selamat tinggal\" is labeled \"Sampai jumpa lagi.\"\n"
          ]
        }
      ]
    },
    {
      "cell_type": "code",
      "source": [
        "tokenizer = Tokenizer()\n",
        "tokenizer.fit_on_texts(X)\n",
        "\n",
        "X = tokenizer.texts_to_sequences(X)\n",
        "X = pad_sequences(X)\n",
        "\n",
        "num_classes = len(set(y))\n",
        "label_encoder = LabelEncoder()\n",
        "y_encoded = label_encoder.fit_transform(y)"
      ],
      "metadata": {
        "execution": {
          "iopub.status.busy": "2024-06-03T18:17:25.162177Z",
          "iopub.execute_input": "2024-06-03T18:17:25.162683Z",
          "iopub.status.idle": "2024-06-03T18:17:25.217908Z",
          "shell.execute_reply.started": "2024-06-03T18:17:25.162627Z",
          "shell.execute_reply": "2024-06-03T18:17:25.216929Z"
        },
        "trusted": true,
        "id": "ddwVT7nCCwcv"
      },
      "execution_count": null,
      "outputs": []
    },
    {
      "cell_type": "markdown",
      "source": [
        "# PREPARE MODEL"
      ],
      "metadata": {
        "id": "JPPRIxhBCwcw"
      }
    },
    {
      "cell_type": "code",
      "source": [
        "X_train, X_test, y_train, y_test = train_test_split(X, y_encoded, test_size=0.2, random_state=42)\n"
      ],
      "metadata": {
        "id": "Yw1_DqLOtqac"
      },
      "execution_count": null,
      "outputs": []
    },
    {
      "cell_type": "code",
      "source": [
        "model = Sequential([\n",
        "    Embedding(input_dim=len(tokenizer.word_index) + 1, output_dim=128, input_length=X.shape[1]),\n",
        "    LSTM(128),\n",
        "    Dense(num_classes, activation='softmax')\n",
        "])\n",
        "\n",
        "model.compile(optimizer='adam', loss='sparse_categorical_crossentropy', metrics=['accuracy'])\n"
      ],
      "metadata": {
        "execution": {
          "iopub.status.busy": "2024-06-03T18:17:25.219292Z",
          "iopub.execute_input": "2024-06-03T18:17:25.220560Z",
          "iopub.status.idle": "2024-06-03T18:17:25.618905Z",
          "shell.execute_reply.started": "2024-06-03T18:17:25.220521Z",
          "shell.execute_reply": "2024-06-03T18:17:25.617234Z"
        },
        "trusted": true,
        "id": "ll4hgmYpCwcw"
      },
      "execution_count": null,
      "outputs": []
    },
    {
      "cell_type": "markdown",
      "source": [
        "# TRAIN"
      ],
      "metadata": {
        "id": "mL_g1abOCwcw"
      }
    },
    {
      "cell_type": "code",
      "source": [
        "EPOCHS = 50\n",
        "BATCH_SIZE = 32\n",
        "\n",
        "history = model.fit(X, y_encoded, epochs=EPOCHS, batch_size=BATCH_SIZE, validation_data=(X, y_encoded))\n",
        "model.save('my_model_NLP.h5')\n",
        "\n",
        "# Save tokenizer and label encoder separately\n",
        "# Save tokenizer to JSON\n",
        "tokenizer_json = tokenizer.to_json()\n",
        "with open('tokenizer.json', 'w') as f:\n",
        "    f.write(tokenizer_json)\n",
        "\n",
        "# Save label encoder to JSON\n",
        "label_encoder_json = json.dumps(label_encoder.classes_.tolist())\n",
        "with open('label_encoder.json', 'w') as f:\n",
        "    f.write(label_encoder_json)\n"
      ],
      "metadata": {
        "execution": {
          "iopub.status.busy": "2024-06-03T18:17:25.620502Z",
          "iopub.execute_input": "2024-06-03T18:17:25.620907Z",
          "iopub.status.idle": "2024-06-03T18:18:03.437495Z",
          "shell.execute_reply.started": "2024-06-03T18:17:25.620872Z",
          "shell.execute_reply": "2024-06-03T18:18:03.436259Z"
        },
        "trusted": true,
        "colab": {
          "base_uri": "https://localhost:8080/"
        },
        "id": "GCAgkyZeCwcw",
        "outputId": "51813d79-64ea-431f-96d5-33f0a4ca0793"
      },
      "execution_count": null,
      "outputs": [
        {
          "output_type": "stream",
          "name": "stdout",
          "text": [
            "Epoch 1/50\n",
            "8/8 [==============================] - 3s 183ms/step - loss: 5.4419 - accuracy: 0.0041 - val_loss: 5.4288 - val_accuracy: 0.0691\n",
            "Epoch 2/50\n",
            "8/8 [==============================] - 2s 216ms/step - loss: 5.4266 - accuracy: 0.1057 - val_loss: 5.4174 - val_accuracy: 0.1707\n",
            "Epoch 3/50\n",
            "8/8 [==============================] - 2s 218ms/step - loss: 5.4148 - accuracy: 0.1463 - val_loss: 5.4026 - val_accuracy: 0.2439\n",
            "Epoch 4/50\n",
            "8/8 [==============================] - 1s 112ms/step - loss: 5.3971 - accuracy: 0.1992 - val_loss: 5.3742 - val_accuracy: 0.1179\n",
            "Epoch 5/50\n",
            "8/8 [==============================] - 1s 114ms/step - loss: 5.3719 - accuracy: 0.0488 - val_loss: 5.3239 - val_accuracy: 0.1098\n",
            "Epoch 6/50\n",
            "8/8 [==============================] - 1s 115ms/step - loss: 5.3072 - accuracy: 0.0976 - val_loss: 5.2069 - val_accuracy: 0.0488\n",
            "Epoch 7/50\n",
            "8/8 [==============================] - 1s 117ms/step - loss: 5.2187 - accuracy: 0.0407 - val_loss: 5.1252 - val_accuracy: 0.0650\n",
            "Epoch 8/50\n",
            "8/8 [==============================] - 1s 116ms/step - loss: 5.0884 - accuracy: 0.0610 - val_loss: 4.9689 - val_accuracy: 0.0366\n",
            "Epoch 9/50\n",
            "8/8 [==============================] - 1s 149ms/step - loss: 4.9172 - accuracy: 0.0366 - val_loss: 4.7496 - val_accuracy: 0.0569\n",
            "Epoch 10/50\n",
            "8/8 [==============================] - 1s 94ms/step - loss: 4.7455 - accuracy: 0.0447 - val_loss: 4.5943 - val_accuracy: 0.0488\n",
            "Epoch 11/50\n",
            "8/8 [==============================] - 1s 96ms/step - loss: 4.5768 - accuracy: 0.0569 - val_loss: 4.4284 - val_accuracy: 0.0650\n",
            "Epoch 12/50\n",
            "8/8 [==============================] - 1s 112ms/step - loss: 4.4080 - accuracy: 0.0650 - val_loss: 4.2407 - val_accuracy: 0.0772\n",
            "Epoch 13/50\n",
            "8/8 [==============================] - 1s 117ms/step - loss: 4.2337 - accuracy: 0.0813 - val_loss: 4.0715 - val_accuracy: 0.0976\n",
            "Epoch 14/50\n",
            "8/8 [==============================] - 1s 96ms/step - loss: 4.0700 - accuracy: 0.0976 - val_loss: 3.8846 - val_accuracy: 0.1504\n",
            "Epoch 15/50\n",
            "8/8 [==============================] - 1s 114ms/step - loss: 3.8880 - accuracy: 0.1545 - val_loss: 3.7254 - val_accuracy: 0.2033\n",
            "Epoch 16/50\n",
            "8/8 [==============================] - 1s 169ms/step - loss: 3.7139 - accuracy: 0.1870 - val_loss: 3.5395 - val_accuracy: 0.2561\n",
            "Epoch 17/50\n",
            "8/8 [==============================] - 1s 185ms/step - loss: 3.5454 - accuracy: 0.2236 - val_loss: 3.3665 - val_accuracy: 0.2846\n",
            "Epoch 18/50\n",
            "8/8 [==============================] - 1s 171ms/step - loss: 3.3709 - accuracy: 0.2724 - val_loss: 3.2103 - val_accuracy: 0.4146\n",
            "Epoch 19/50\n",
            "8/8 [==============================] - 1s 115ms/step - loss: 3.2067 - accuracy: 0.3740 - val_loss: 3.0510 - val_accuracy: 0.4797\n",
            "Epoch 20/50\n",
            "8/8 [==============================] - 1s 93ms/step - loss: 3.0361 - accuracy: 0.4309 - val_loss: 2.8798 - val_accuracy: 0.5122\n",
            "Epoch 21/50\n",
            "8/8 [==============================] - 1s 114ms/step - loss: 2.8752 - accuracy: 0.5244 - val_loss: 2.7173 - val_accuracy: 0.6463\n",
            "Epoch 22/50\n",
            "8/8 [==============================] - 1s 115ms/step - loss: 2.7036 - accuracy: 0.6260 - val_loss: 2.5810 - val_accuracy: 0.6789\n",
            "Epoch 23/50\n",
            "8/8 [==============================] - 1s 96ms/step - loss: 2.5625 - accuracy: 0.6829 - val_loss: 2.4102 - val_accuracy: 0.7642\n",
            "Epoch 24/50\n",
            "8/8 [==============================] - 1s 115ms/step - loss: 2.3972 - accuracy: 0.7114 - val_loss: 2.2673 - val_accuracy: 0.7764\n",
            "Epoch 25/50\n",
            "8/8 [==============================] - 1s 95ms/step - loss: 2.2722 - accuracy: 0.7276 - val_loss: 2.1651 - val_accuracy: 0.7642\n",
            "Epoch 26/50\n",
            "8/8 [==============================] - 1s 95ms/step - loss: 2.1532 - accuracy: 0.7724 - val_loss: 2.0299 - val_accuracy: 0.8171\n",
            "Epoch 27/50\n",
            "8/8 [==============================] - 1s 113ms/step - loss: 2.0250 - accuracy: 0.7967 - val_loss: 1.8911 - val_accuracy: 0.8496\n",
            "Epoch 28/50\n",
            "8/8 [==============================] - 1s 96ms/step - loss: 1.8889 - accuracy: 0.8130 - val_loss: 1.7746 - val_accuracy: 0.8740\n",
            "Epoch 29/50\n",
            "8/8 [==============================] - 1s 94ms/step - loss: 1.7688 - accuracy: 0.8374 - val_loss: 1.6761 - val_accuracy: 0.8577\n",
            "Epoch 30/50\n",
            "8/8 [==============================] - 1s 116ms/step - loss: 1.6654 - accuracy: 0.8415 - val_loss: 1.5599 - val_accuracy: 0.8862\n",
            "Epoch 31/50\n",
            "8/8 [==============================] - 1s 165ms/step - loss: 1.5597 - accuracy: 0.8618 - val_loss: 1.4543 - val_accuracy: 0.8862\n",
            "Epoch 32/50\n",
            "8/8 [==============================] - 1s 176ms/step - loss: 1.4575 - accuracy: 0.8659 - val_loss: 1.3727 - val_accuracy: 0.8984\n",
            "Epoch 33/50\n",
            "8/8 [==============================] - 1s 183ms/step - loss: 1.3743 - accuracy: 0.8699 - val_loss: 1.2962 - val_accuracy: 0.8984\n",
            "Epoch 34/50\n",
            "8/8 [==============================] - 1s 97ms/step - loss: 1.2859 - accuracy: 0.8902 - val_loss: 1.1960 - val_accuracy: 0.9065\n",
            "Epoch 35/50\n",
            "8/8 [==============================] - 1s 93ms/step - loss: 1.1968 - accuracy: 0.8740 - val_loss: 1.1288 - val_accuracy: 0.9024\n",
            "Epoch 36/50\n",
            "8/8 [==============================] - 1s 95ms/step - loss: 1.1366 - accuracy: 0.8699 - val_loss: 1.0665 - val_accuracy: 0.9065\n",
            "Epoch 37/50\n",
            "8/8 [==============================] - 1s 99ms/step - loss: 1.0716 - accuracy: 0.8821 - val_loss: 0.9962 - val_accuracy: 0.9065\n",
            "Epoch 38/50\n",
            "8/8 [==============================] - 1s 92ms/step - loss: 1.0000 - accuracy: 0.8780 - val_loss: 0.9303 - val_accuracy: 0.9106\n",
            "Epoch 39/50\n",
            "8/8 [==============================] - 1s 111ms/step - loss: 0.9354 - accuracy: 0.8740 - val_loss: 0.8736 - val_accuracy: 0.9024\n",
            "Epoch 40/50\n",
            "8/8 [==============================] - 1s 96ms/step - loss: 0.8805 - accuracy: 0.8780 - val_loss: 0.8257 - val_accuracy: 0.9106\n",
            "Epoch 41/50\n",
            "8/8 [==============================] - 1s 96ms/step - loss: 0.8293 - accuracy: 0.8943 - val_loss: 0.7777 - val_accuracy: 0.9106\n",
            "Epoch 42/50\n",
            "8/8 [==============================] - 1s 113ms/step - loss: 0.7823 - accuracy: 0.8862 - val_loss: 0.7325 - val_accuracy: 0.9065\n",
            "Epoch 43/50\n",
            "8/8 [==============================] - 1s 119ms/step - loss: 0.7401 - accuracy: 0.8943 - val_loss: 0.6928 - val_accuracy: 0.9106\n",
            "Epoch 44/50\n",
            "8/8 [==============================] - 1s 114ms/step - loss: 0.6962 - accuracy: 0.8862 - val_loss: 0.6492 - val_accuracy: 0.9106\n",
            "Epoch 45/50\n",
            "8/8 [==============================] - 1s 114ms/step - loss: 0.6584 - accuracy: 0.8780 - val_loss: 0.6163 - val_accuracy: 0.9106\n",
            "Epoch 46/50\n",
            "8/8 [==============================] - 1s 167ms/step - loss: 0.6211 - accuracy: 0.8862 - val_loss: 0.5853 - val_accuracy: 0.9106\n",
            "Epoch 47/50\n",
            "8/8 [==============================] - 2s 212ms/step - loss: 0.5909 - accuracy: 0.8821 - val_loss: 0.5591 - val_accuracy: 0.9106\n",
            "Epoch 48/50\n",
            "8/8 [==============================] - 1s 187ms/step - loss: 0.5609 - accuracy: 0.8984 - val_loss: 0.5318 - val_accuracy: 0.9106\n",
            "Epoch 49/50\n",
            "8/8 [==============================] - 1s 94ms/step - loss: 0.5370 - accuracy: 0.8984 - val_loss: 0.5023 - val_accuracy: 0.9106\n",
            "Epoch 50/50\n",
            "8/8 [==============================] - 1s 113ms/step - loss: 0.5105 - accuracy: 0.8821 - val_loss: 0.4812 - val_accuracy: 0.9106\n"
          ]
        },
        {
          "output_type": "stream",
          "name": "stderr",
          "text": [
            "/usr/local/lib/python3.10/dist-packages/keras/src/engine/training.py:3103: UserWarning: You are saving your model as an HDF5 file via `model.save()`. This file format is considered legacy. We recommend using instead the native Keras format, e.g. `model.save('my_model.keras')`.\n",
            "  saving_api.save_model(\n"
          ]
        }
      ]
    },
    {
      "cell_type": "code",
      "source": [],
      "metadata": {
        "id": "9afLnCH2u9NJ"
      },
      "execution_count": null,
      "outputs": []
    },
    {
      "cell_type": "code",
      "source": [
        "# Plotting\n",
        "plt.figure(figsize=(12, 4))\n",
        "epochs = range(1, EPOCHS + 1)\n",
        "\n",
        "# Plot Loss\n",
        "plt.subplot(1, 2, 1)\n",
        "plt.plot(epochs, history.history['loss'], label='Training Loss', marker='o')\n",
        "plt.plot(epochs, history.history['val_loss'], label='Validation Loss', marker='o')\n",
        "plt.xlabel('Epochs')\n",
        "plt.ylabel('Loss (%)')\n",
        "plt.grid()\n",
        "plt.legend()\n",
        "\n",
        "# Plot Accuracy\n",
        "plt.subplot(1, 2, 2)\n",
        "plt.plot(epochs, history.history['accuracy'], label='Training Accuracy', marker='o')\n",
        "plt.plot(epochs, history.history['val_accuracy'], label='Validation Accuracy', marker='o')\n",
        "plt.xlabel('Epochs')\n",
        "plt.ylabel('Accuracy (%)')\n",
        "plt.grid()\n",
        "plt.legend()\n",
        "\n",
        "plt.tight_layout()\n",
        "plt.show()"
      ],
      "metadata": {
        "execution": {
          "iopub.status.busy": "2024-06-03T18:18:03.441012Z",
          "iopub.execute_input": "2024-06-03T18:18:03.441447Z",
          "iopub.status.idle": "2024-06-03T18:18:04.092045Z",
          "shell.execute_reply.started": "2024-06-03T18:18:03.441396Z",
          "shell.execute_reply": "2024-06-03T18:18:04.090674Z"
        },
        "trusted": true,
        "colab": {
          "base_uri": "https://localhost:8080/",
          "height": 407
        },
        "id": "FKE_WHqNCwcx",
        "outputId": "c15e4087-5c06-4dce-cce1-6aa2ed40839c"
      },
      "execution_count": null,
      "outputs": [
        {
          "output_type": "display_data",
          "data": {
            "text/plain": [
              "<Figure size 1200x400 with 2 Axes>"
            ],
            "image/png": "[encoded data removed]"
          },
          "metadata": {}
        }
      ]
    },
    {
      "cell_type": "markdown",
      "source": [
        "# PREDICT"
      ],
      "metadata": {
        "id": "Sm3Ty9wQCwcx"
      }
    },
    {
      "cell_type": "code",
      "source": [
        "from tensorflow.keras.models import load_model"
      ],
      "metadata": {
        "execution": {
          "iopub.status.busy": "2024-06-03T18:18:04.093864Z",
          "iopub.execute_input": "2024-06-03T18:18:04.094275Z",
          "iopub.status.idle": "2024-06-03T18:18:04.099415Z",
          "shell.execute_reply.started": "2024-06-03T18:18:04.094243Z",
          "shell.execute_reply": "2024-06-03T18:18:04.098412Z"
        },
        "trusted": true,
        "id": "O3KeNmvJCwcx"
      },
      "execution_count": null,
      "outputs": []
    },
    {
      "cell_type": "code",
      "source": [
        "from keras.models import load_model\n",
        "import numpy as np\n",
        "\n",
        "# Load the trained model\n",
        "model = load_model('/content/my_model_NLP.h5')\n",
        "\n",
        "# Define a function to predict intents\n",
        "def predict_intent(text):\n",
        "    # Preprocess input text using the tokenizer\n",
        "    tokenized_text = tokenizer.texts_to_sequences([text])\n",
        "    padded_text = pad_sequences(tokenized_text, maxlen=max_sequence_length)\n",
        "\n",
        "    # Predict the intent\n",
        "    predictions = model.predict(padded_text)\n",
        "\n",
        "    # Get the index of the highest probability prediction\n",
        "    predicted_index = np.argmax(predictions)\n",
        "\n",
        "    # Map the index to the corresponding label\n",
        "    predicted_label = label_encoder.inverse_transform([predicted_index])[0]\n",
        "\n",
        "    return predicted_label\n",
        "\n",
        "# Example usage\n",
        "user_input = \"apa itu memiliki penyakit mental?\"\n",
        "max_sequence_length = 40\n",
        "predicted_intent = predict_intent(user_input)\n",
        "print(\"Predicted intent:\", predicted_intent)\n"
      ],
      "metadata": {
        "execution": {
          "iopub.status.busy": "2024-06-03T18:45:23.088849Z",
          "iopub.execute_input": "2024-06-03T18:45:23.089249Z",
          "iopub.status.idle": "2024-06-03T18:45:24.204013Z",
          "shell.execute_reply.started": "2024-06-03T18:45:23.089217Z",
          "shell.execute_reply": "2024-06-03T18:45:24.202267Z"
        },
        "trusted": true,
        "id": "k_gv_wbLCwcy",
        "colab": {
          "base_uri": "https://localhost:8080/"
        },
        "outputId": "03f5767a-1dcc-437a-e28b-2a06a715053c"
      },
      "execution_count": null,
      "outputs": [
        {
          "output_type": "stream",
          "name": "stdout",
          "text": [
            "1/1 [==============================] - 0s 439ms/step\n",
            "Predicted intent: Penyakit mental adalah kondisi kesehatan yang mengganggu pikiran, emosi, hubungan, dan fungsi sehari -hari seseorang.Mereka dikaitkan dengan kesusahan dan berkurangnya kapasitas untuk terlibat dalam kegiatan kehidupan sehari -hari yang biasa.Penyakit mental jatuh di sepanjang rangkaian keparahan: beberapa cukup ringan dan hanya mengganggu beberapa aspek kehidupan, seperti fobia tertentu.Di ujung lain spektrum terletak penyakit mental yang serius, yang mengakibatkan gangguan fungsional utama dan gangguan dengan kehidupan sehari -hari.Ini termasuk gangguan seperti depresi berat, skizofrenia, dan gangguan bipolar, dan mungkin mengharuskan orang tersebut menerima perawatan di rumah sakit.Penting untuk mengetahui bahwa penyakit mental adalah kondisi medis yang tidak ada hubungannya dengan karakter, kecerdasan, atau kemauan seseorang.Sama seperti diabetes adalah kelainan pankreas, penyakit mental adalah kondisi medis karena biologi otak.Demikian pula dengan bagaimana seseorang akan mengobati diabetes dengan obat -obatan dan insulin, penyakit mental dapat diobati dengan kombinasi obat dan dukungan sosial.Perawatan ini sangat efektif, dengan 70-90 persen orang yang menerima pengobatan mengalami pengurangan gejala dan peningkatan kualitas hidup.Dengan perawatan yang tepat, sangat mungkin bagi orang dengan penyakit mental untuk mandiri dan sukses.\n"
          ]
        }
      ]
    }
  ]
}