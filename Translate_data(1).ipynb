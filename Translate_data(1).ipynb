{
  "nbformat": 4,
  "nbformat_minor": 0,
  "metadata": {
    "colab": {
      "provenance": []
    },
    "kernelspec": {
      "name": "python3",
      "display_name": "Python 3"
    },
    "language_info": {
      "name": "python"
    }
  },
  "cells": [
    {
      "cell_type": "code",
      "source": [
        "# import json\n",
        "# import pandas as pd\n",
        "\n",
        "# # Fungsi untuk membersihkan data teks\n",
        "# def clean_text(text):\n",
        "#     if isinstance(text, str):\n",
        "#         # Menghapus spasi ekstra dari teks\n",
        "#         cleaned_text = text.strip()\n",
        "#     elif isinstance(text, list):\n",
        "#         # Menggabungkan elemen list menjadi satu string dan menghapus spasi ekstra\n",
        "#         cleaned_text = ' '.join(text).strip()\n",
        "#     else:\n",
        "#         # Mengembalikan nilai asli jika bukan string atau list\n",
        "#         cleaned_text = text\n",
        "#     return cleaned_text\n",
        "\n",
        "# # Fungsi untuk membersihkan data dari JSON dan membuat DataFrame\n",
        "# def clean_json_to_dataframe(json_file_path):\n",
        "#     # Baca file JSON\n",
        "#     with open(json_file_path, 'r') as f:\n",
        "#         data = json.load(f)\n",
        "\n",
        "#     # Membuat DataFrame\n",
        "#     df = pd.DataFrame(data['intents'])\n",
        "\n",
        "#     # Membersihkan kolom teks jika diperlukan\n",
        "#     columns_to_clean = ['tag', 'patterns', 'responses']\n",
        "#     for column in columns_to_clean:\n",
        "#         df[column] = df[column].apply(lambda x: clean_text(x))\n",
        "\n",
        "#     # Membersihkan DataFrame dari data yang hilang (missing) atau null\n",
        "#     df.dropna(inplace=True)\n",
        "\n",
        "#     return df\n",
        "\n",
        "# # Path file JSON\n",
        "# json_file_path = '/content/intents.json'\n",
        "\n",
        "# # Membersihkan JSON dan membuat DataFrame\n",
        "# df = clean_json_to_dataframe(json_file_path)\n",
        "\n",
        "# # Tampilkan DataFrame\n",
        "# print(df)\n"
      ],
      "metadata": {
        "colab": {
          "base_uri": "https://localhost:8080/"
        },
        "id": "FLa46R-OiDws",
        "outputId": "d316646c-ce0f-4a9f-cc42-7c8194265ecf"
      },
      "execution_count": null,
      "outputs": [
        {
          "output_type": "stream",
          "name": "stdout",
          "text": [
            "          tag                                           patterns  \\\n",
            "0    greeting  Hi Hey Is anyone there? Hi there Hello Hey the...   \n",
            "1     morning                                       Good morning   \n",
            "2   afternoon                                     Good afternoon   \n",
            "3     evening                                       Good evening   \n",
            "4       night                                         Good night   \n",
            "..        ...                                                ...   \n",
            "75    fact-28  What do I do if I'm worried about my mental he...   \n",
            "76    fact-29                       How do I know if I'm unwell?   \n",
            "77    fact-30  How can I maintain social connections? What if...   \n",
            "78    fact-31  What's the difference between anxiety and stress?   \n",
            "79    fact-32  What's the difference between sadness and depr...   \n",
            "\n",
            "                                            responses  \n",
            "0   Hello there. Tell me how are you feeling today...  \n",
            "1   Good morning. I hope you had a good night's sl...  \n",
            "2              Good afternoon. How is your day going?  \n",
            "3                Good evening. How has your day been?  \n",
            "4   Good night. Get some proper sleep Good night. ...  \n",
            "..                                                ...  \n",
            "75  The most important thing is to talk to someone...  \n",
            "76  If your beliefs , thoughts , feelings or behav...  \n",
            "77  A lot of people are alone right now, but we do...  \n",
            "78  Stress and anxiety are often used interchangea...  \n",
            "79  Sadness is a normal reaction to a loss, disapp...  \n",
            "\n",
            "[80 rows x 3 columns]\n"
          ]
        }
      ]
    },
    {
      "cell_type": "code",
      "execution_count": null,
      "metadata": {
        "colab": {
          "base_uri": "https://localhost:8080/"
        },
        "id": "ikNFfmqHjcT3",
        "outputId": "3a3a760e-58c7-431a-be38-8d9795dfb8a8"
      },
      "outputs": [
        {
          "output_type": "stream",
          "name": "stdout",
          "text": [
            "Error translating: the JSON object must be str, bytes or bytearray, not NoneType\n",
            "         tag                                           patterns  \\\n",
            "0      salam  [Hai, Hai, Apakah ada orang di sana?, Hai, yan...   \n",
            "1       Pagi                                     [Selamat pagi]   \n",
            "2       sore                                    [Selamat siang]   \n",
            "3      malam                                    [Selamat malam]   \n",
            "4      malam                                    [Selamat malam]   \n",
            "..       ...                                                ...   \n",
            "75  Fakta-28  [Apa yang saya lakukan jika saya khawatir tent...   \n",
            "76  Fakta-29       [Bagaimana saya tahu jika saya tidak sehat?]   \n",
            "77   Fact-30  [Bagaimana saya bisa mempertahankan koneksi so...   \n",
            "78  Fakta-31        [Apa perbedaan antara kecemasan dan stres?]   \n",
            "79  Fakta-32  [Apa perbedaan antara kesedihan dan depresi?, ...   \n",
            "\n",
            "                                            responses  \n",
            "0   [Halo yang disana.Katakan padaku bagaimana per...  \n",
            "1   [Selamat pagi.Saya harap Anda tidur nyenyak.Ba...  \n",
            "2                  [Selamat siang.Bagaimana hari mu?]  \n",
            "3                   [Selamat malam.Bagaimana harimu?]  \n",
            "4   [Selamat malam.Tidur nyenyak, Selamat malam.Mi...  \n",
            "..                                                ...  \n",
            "75  [Yang paling penting adalah berbicara dengan s...  \n",
            "76  [Jika keyakinan, pikiran, perasaan, atau peril...  \n",
            "77  [Banyak orang sendirian sekarang, tetapi kita ...  \n",
            "78  [Stres dan kecemasan sering digunakan secara b...  \n",
            "79  [Kesedihan adalah reaksi normal terhadap kehil...  \n",
            "\n",
            "[80 rows x 3 columns]\n"
          ]
        }
      ],
      "source": [
        "import json\n",
        "import pandas as pd\n",
        "from googletrans import Translator\n",
        "\n",
        "# Fungsi untuk menerjemahkan teks\n",
        "def translate_text(text, target_language='id'):\n",
        "    try:\n",
        "        translator = Translator()\n",
        "        translation = translator.translate(text, dest=target_language)\n",
        "        return translation.text\n",
        "    except Exception as e:\n",
        "        print(\"Error translating:\", e)\n",
        "        return \"\"\n",
        "\n",
        "\n",
        "# Load data JSON dari file yang diupload\n",
        "file_path = '/content/intents.json'  # Ubah sesuai dengan nama file yang diupload\n",
        "with open(file_path, 'r') as f:\n",
        "    data = json.load(f)\n",
        "\n",
        "# Menerjemahkan data JSON\n",
        "translated_data = []\n",
        "\n",
        "# Memastikan 'intents' ada dalam data JSON\n",
        "if 'intents' in data:\n",
        "    for item in data['intents']:\n",
        "        translated_item = {\n",
        "            \"tag\": translate_text(item[\"tag\"]),\n",
        "            \"patterns\": [translate_text(pattern) for pattern in item.get(\"patterns\", [])],\n",
        "            \"responses\": [translate_text(response) for response in item.get(\"responses\", [])]\n",
        "        }\n",
        "        translated_data.append(translated_item)\n",
        "else:\n",
        "    print(\"Key 'intents' tidak ditemukan dalam data JSON.\")\n",
        "\n",
        "# Membuat DataFrame dari data yang telah diterjemahkan\n",
        "df = pd.DataFrame(translated_data)\n",
        "\n",
        "# Menampilkan DataFrame\n",
        "print(df)\n"
      ]
    },
    {
      "cell_type": "code",
      "source": [
        "!pip install googletrans==4.0.0-rc1\n"
      ],
      "metadata": {
        "colab": {
          "base_uri": "https://localhost:8080/"
        },
        "id": "2pm-RIWlkV5I",
        "outputId": "ac539200-8b13-451a-b892-fbb5294d1ede"
      },
      "execution_count": null,
      "outputs": [
        {
          "output_type": "stream",
          "name": "stdout",
          "text": [
            "Collecting googletrans==4.0.0-rc1\n",
            "  Downloading googletrans-4.0.0rc1.tar.gz (20 kB)\n",
            "  Preparing metadata (setup.py) ... \u001b[?25l\u001b[?25hdone\n",
            "Collecting httpx==0.13.3 (from googletrans==4.0.0-rc1)\n",
            "  Downloading httpx-0.13.3-py3-none-any.whl (55 kB)\n",
            "\u001b[2K     \u001b[90m━━━━━━━━━━━━━━━━━━━━━━━━━━━━━━━━━━━━━━━━\u001b[0m \u001b[32m55.1/55.1 kB\u001b[0m \u001b[31m1.7 MB/s\u001b[0m eta \u001b[36m0:00:00\u001b[0m\n",
            "\u001b[?25hRequirement already satisfied: certifi in /usr/local/lib/python3.10/dist-packages (from httpx==0.13.3->googletrans==4.0.0-rc1) (2024.2.2)\n",
            "Collecting hstspreload (from httpx==0.13.3->googletrans==4.0.0-rc1)\n",
            "  Downloading hstspreload-2024.5.1-py3-none-any.whl (1.1 MB)\n",
            "\u001b[2K     \u001b[90m━━━━━━━━━━━━━━━━━━━━━━━━━━━━━━━━━━━━━━━━\u001b[0m \u001b[32m1.1/1.1 MB\u001b[0m \u001b[31m13.2 MB/s\u001b[0m eta \u001b[36m0:00:00\u001b[0m\n",
            "\u001b[?25hRequirement already satisfied: sniffio in /usr/local/lib/python3.10/dist-packages (from httpx==0.13.3->googletrans==4.0.0-rc1) (1.3.1)\n",
            "Collecting chardet==3.* (from httpx==0.13.3->googletrans==4.0.0-rc1)\n",
            "  Downloading chardet-3.0.4-py2.py3-none-any.whl (133 kB)\n",
            "\u001b[2K     \u001b[90m━━━━━━━━━━━━━━━━━━━━━━━━━━━━━━━━━━━━━━━━\u001b[0m \u001b[32m133.4/133.4 kB\u001b[0m \u001b[31m8.1 MB/s\u001b[0m eta \u001b[36m0:00:00\u001b[0m\n",
            "\u001b[?25hCollecting idna==2.* (from httpx==0.13.3->googletrans==4.0.0-rc1)\n",
            "  Downloading idna-2.10-py2.py3-none-any.whl (58 kB)\n",
            "\u001b[2K     \u001b[90m━━━━━━━━━━━━━━━━━━━━━━━━━━━━━━━━━━━━━━━━\u001b[0m \u001b[32m58.8/58.8 kB\u001b[0m \u001b[31m5.9 MB/s\u001b[0m eta \u001b[36m0:00:00\u001b[0m\n",
            "\u001b[?25hCollecting rfc3986<2,>=1.3 (from httpx==0.13.3->googletrans==4.0.0-rc1)\n",
            "  Downloading rfc3986-1.5.0-py2.py3-none-any.whl (31 kB)\n",
            "Collecting httpcore==0.9.* (from httpx==0.13.3->googletrans==4.0.0-rc1)\n",
            "  Downloading httpcore-0.9.1-py3-none-any.whl (42 kB)\n",
            "\u001b[2K     \u001b[90m━━━━━━━━━━━━━━━━━━━━━━━━━━━━━━━━━━━━━━━━\u001b[0m \u001b[32m42.6/42.6 kB\u001b[0m \u001b[31m3.8 MB/s\u001b[0m eta \u001b[36m0:00:00\u001b[0m\n",
            "\u001b[?25hCollecting h11<0.10,>=0.8 (from httpcore==0.9.*->httpx==0.13.3->googletrans==4.0.0-rc1)\n",
            "  Downloading h11-0.9.0-py2.py3-none-any.whl (53 kB)\n",
            "\u001b[2K     \u001b[90m━━━━━━━━━━━━━━━━━━━━━━━━━━━━━━━━━━━━━━━━\u001b[0m \u001b[32m53.6/53.6 kB\u001b[0m \u001b[31m6.1 MB/s\u001b[0m eta \u001b[36m0:00:00\u001b[0m\n",
            "\u001b[?25hCollecting h2==3.* (from httpcore==0.9.*->httpx==0.13.3->googletrans==4.0.0-rc1)\n",
            "  Downloading h2-3.2.0-py2.py3-none-any.whl (65 kB)\n",
            "\u001b[2K     \u001b[90m━━━━━━━━━━━━━━━━━━━━━━━━━━━━━━━━━━━━━━━━\u001b[0m \u001b[32m65.0/65.0 kB\u001b[0m \u001b[31m7.4 MB/s\u001b[0m eta \u001b[36m0:00:00\u001b[0m\n",
            "\u001b[?25hCollecting hyperframe<6,>=5.2.0 (from h2==3.*->httpcore==0.9.*->httpx==0.13.3->googletrans==4.0.0-rc1)\n",
            "  Downloading hyperframe-5.2.0-py2.py3-none-any.whl (12 kB)\n",
            "Collecting hpack<4,>=3.0 (from h2==3.*->httpcore==0.9.*->httpx==0.13.3->googletrans==4.0.0-rc1)\n",
            "  Downloading hpack-3.0.0-py2.py3-none-any.whl (38 kB)\n",
            "Building wheels for collected packages: googletrans\n",
            "  Building wheel for googletrans (setup.py) ... \u001b[?25l\u001b[?25hdone\n",
            "  Created wheel for googletrans: filename=googletrans-4.0.0rc1-py3-none-any.whl size=17395 sha256=53171849bdceb33eefee6cfac4f08fedb7f2f2a119c4357c0c7165cc9499ce30\n",
            "  Stored in directory: /root/.cache/pip/wheels/c0/59/9f/7372f0cf70160fe61b528532e1a7c8498c4becd6bcffb022de\n",
            "Successfully built googletrans\n",
            "Installing collected packages: rfc3986, hyperframe, hpack, h11, chardet, idna, hstspreload, h2, httpcore, httpx, googletrans\n",
            "  Attempting uninstall: chardet\n",
            "    Found existing installation: chardet 5.2.0\n",
            "    Uninstalling chardet-5.2.0:\n",
            "      Successfully uninstalled chardet-5.2.0\n",
            "  Attempting uninstall: idna\n",
            "    Found existing installation: idna 3.7\n",
            "    Uninstalling idna-3.7:\n",
            "      Successfully uninstalled idna-3.7\n",
            "Successfully installed chardet-3.0.4 googletrans-4.0.0rc1 h11-0.9.0 h2-3.2.0 hpack-3.0.0 hstspreload-2024.5.1 httpcore-0.9.1 httpx-0.13.3 hyperframe-5.2.0 idna-2.10 rfc3986-1.5.0\n"
          ]
        }
      ]
    }
  ]
}