{
  "nbformat": 4,
  "nbformat_minor": 0,
  "metadata": {
    "colab": {
      "provenance": []
    },
    "kernelspec": {
      "name": "python3",
      "display_name": "Python 3"
    },
    "language_info": {
      "name": "python"
    }
  },
  "cells": [
    {
      "cell_type": "code",
      "execution_count": null,
      "metadata": {
        "id": "IteM7Jn2ww02"
      },
      "outputs": [],
      "source": [
        "\n",
        "\n",
        "import pandas as pd\n",
        "from translate import Translator\n",
        "\n",
        "# Membaca file CSV\n",
        "faq = pd.read_csv('/content/Mental_Health_FAQ.csv')\n",
        "\n",
        "# Inisialisasi penerjemah\n",
        "translator = Translator(to_lang=\"id\")\n",
        "\n",
        "# Contoh menerjemahkan kolom 'Question' dan 'Answer'\n",
        "faq['Questions'] = faq['Questions'].apply(lambda x: translator.translate(x))\n",
        "faq['Answers'] = faq['Answers'].apply(lambda x: translator.translate(x))\n",
        "\n",
        "# Simpan hasil terjemahan ke file CSV baru\n",
        "faq.to_csv('Mental_Health_FAQ_Translated.csv', index=False)\n"
      ]
    },
    {
      "cell_type": "code",
      "source": [
        "import pandas as pd\n",
        "from googletrans import Translator\n",
        "\n",
        "# Membaca file CSV\n",
        "faq = pd.read_csv('/content/Mental_Health_FAQ.csv')\n",
        "\n",
        "# Inisialisasi penerjemah\n",
        "translator = Translator()\n",
        "\n",
        "# Fungsi untuk menerjemahkan teks dalam potongan-potongan dengan penanganan kesalahan\n",
        "def translate_chunk(text_list, src='en', dest='id'):\n",
        "    translated_texts = []\n",
        "    for text in text_list:\n",
        "        try:\n",
        "            result = translator.translate(text, src=src, dest=dest)\n",
        "            translated_texts.append(result.text)\n",
        "        except Exception as e:\n",
        "            print(f\"Error translating text: {text}\\n{e}\")\n",
        "            translated_texts.append(text)  # Menambahkan teks asli jika terjadi kesalahan\n",
        "    return translated_texts\n",
        "\n",
        "# Menerjemahkan kolom 'Questions' dan 'Answers' dalam potongan-potongan\n",
        "chunk_size = 50  # Ukuran potongan, sesuaikan dengan kebutuhan\n",
        "for col in ['Questions', 'Answers']:\n",
        "    translated_column = []\n",
        "    for i in range(0, len(faq), chunk_size):\n",
        "        chunk = faq[col][i:i + chunk_size].tolist()\n",
        "        translated_chunk = translate_chunk(chunk)\n",
        "        translated_column.extend(translated_chunk)\n",
        "    faq[col] = translated_column\n",
        "\n",
        "# Simpan hasil terjemahan ke file CSV baru\n",
        "faq.to_csv('Mental_Health_FAQ_Translated.csv', index=False)\n"
      ],
      "metadata": {
        "colab": {
          "base_uri": "https://localhost:8080/"
        },
        "id": "P4LdbMYozePx",
        "outputId": "5f0976f1-5c1b-4da5-c09c-89e459246ef3"
      },
      "execution_count": null,
      "outputs": [
        {
          "output_type": "stream",
          "name": "stdout",
          "text": [
            "Error translating text: What you tell yourself about a situation affects how you feel and what you do. Sometimes your interpretation of a situation can get distorted and you only focus on the negative aspects—this is normal and expected. However, when you interpret situations too negatively, you might feel worse. You're also more likely to respond to the situation in ways that are unhelpful in the long term. \n",
            " These automatic thoughts and assumptions are sometimes called thinking traps. Everyone falls into unbalanced thinking traps from time to time. You're most likely to distort your interpretation of things when you already feel sad, angry, anxious, depressed or stressed. You're also more vulnerable to thinking traps when you're not taking good care of yourself, like when you're not eating or sleeping well. \n",
            " Here are some common thinking traps: \n",
            " Thinking that a negative situation is part of a constant cycle of bad things that happen. People who overgeneralize often use words like \"always\" or \"never.\" \n",
            " I was really looking forward to that concert, and now it’s cancelled. This always happens to me! I never get to do fun things! \n",
            " Seeing things as only right or wrong, good or bad, perfect or terrible. People who think in black and white terms see a small mistake as a total failure. \n",
            " I wanted to eat healthier, but I ate too many snacks today. This plan is a total failure! \n",
            " Saying only negative things about yourself or other people. \n",
            " I made a mistake. I'm stupid! My boss told me that I made a mistake. My boss is a total jerk! \n",
            " Predicting that something bad will happen without any evidence. \n",
            " I've been doing what I can to stay home and reduce the risks, but I just know that I'm going to get sick. \n",
            " Focusing only on the negative parts of a situation and ignoring anything good or positive. \n",
            " I know there's a lot I can do at home, but I'm just so sick of this. Everything is terrible. \n",
            " Believing that bad feelings or emotions reflect the situation. \n",
            " I feel scared and overwhelmed right now, so that must mean everything is very bad and will never get better. \n",
            " Telling yourself how you \"should\" or \"must\" act. \n",
            " I should be able to handle this without getting upset and crying! \n",
            " Here are helpful strategies to challenge common thinking traps. Many people find their mood and confidence improve after working through these skills. You can also find worksheets to help you go through each step at www.heretohelp.bc.ca. \n",
            " Don't try to get out of a thinking trap by just telling yourself to stop thinking that way. \n",
            " This doesn't let you look at the evidence and challenge the thinking trap. When you try and push upsetting thoughts away, they are more likely to keep popping back into your mind. \n",
            " Ask yourself the following questions when something upsetting happens: \n",
            " What is the situation? What actually happened? Only include facts that everyone would agree on. \n",
            " What are your thoughts? What are you telling yourself? \n",
            " What are your emotions? How do you feel? \n",
            " What are your behaviours? How are you reacting? What are you doing to cope? \n",
            " Take a look at the thoughts you've listed. Are you using any of the thinking traps and falling into distorted thinking patterns? It's common to fall into more than one thinking trap. Go back to the thinking trap list and identify which ones apply to you and your current situation. \n",
            " The best way to break a thinking trap is to look at your thoughts like a scientist and consider the hard facts. Use the evidence you've collected to challenge your thinking traps. Here are some ways to do that: \n",
            " Try to find evidence against the thought. If you make a mistake at work, you might automatically think, \"I can't do anything right! I must be a terrible employee!\" When this thought comes up, you might challenge it by asking, \"Is there any evidence to support this thought? Is there any evidence to disprove this thought?\" You might quickly realize that your boss has complimented your work recently, which doesn't support the idea that you're a bad employee. \n",
            " Ask yourself, \"Would I judge other people if they did the same thing? Am I being harder on myself than I am on other people?\" This is a great method for challenging thinking traps that involve harsh self-criticism. \n",
            " Find out whether other people you trust agree with your thoughts. For example, you might have trouble with one of your kids and think, \"Good parents wouldn't have this kind of problem.\" To challenge this thought, you can ask other parents if they've ever had any problems with their kids. \n",
            " Test your beliefs in person. For example, if you think that your friends don't care about you, call a few friends and make plans to start a regular video call. If you assumed that they will all say no, you may be pleasantly surprised to hear that they do want to see you. \n",
            " Once you have worked through some challenges, try to think of a more balanced thought to replace the old thinking traps. Let's use the following example: \n",
            " I feel sad and overwhelmed. I'm having a hard time figuring out what to do. \n",
            " I'm the worst! I should be able to handle this! \n",
            " Labeling \n",
            " 'Should' statements \n",
            " Examine the evidence: I have a lot of challenges right now. I'm worried about my family and everything seems to change so quickly. I've successfully handled complicated situations in the past, so I know I can do this. \n",
            " It's okay to feel upset right now—there's a lot going on. I'm going to think about how I got through past situations and see what worked for me. I'm trying to do a lot on my own, so I'm going to talk to my family so we can make a plan and work together. \n",
            " Try the Healthy Thinking Worksheet at www.heretohelp.bc.ca \n",
            " Check out Anxiety Canada's articles Helpful Thinking and Thinking Traps \n",
            " This page is adapted from Wellness Module 8: Healthy Thinking at www.heretohelp.bc.ca/wellness-module/wellness-module-8-healthy-thinking.\n",
            "the JSON object must be str, bytes or bytearray, not NoneType\n",
            "Error translating text: We naturally want to help a loved one who isn’t feeling well. How we can or should help may seem fairly obvious when a loved one experiences a physical health problem, but many people say they’re not sure how to best help when a loved one experiences a mental illness like schizophrenia. Here are some tips: \n",
            " You don’t have to be an expert in schizophrenia, but learning more can help you understand what’s going on. There are a lot of myths about schizophrenia, so it’s a good idea to find some trustworthy resources. Our Schizophrenia info sheet is a great place to start. You can also find a lot of information from the BC Schizophrenia Society. \n",
            " Sometimes talking about problems or concerns can really help. It’s important to understand that talking about something difficult like experiences of schizophrenia can be very hard for your loved one—and the symptoms of schizophrenia can also make conversations difficult. If a loved one opens up to you, listen actively—that is, without distractions like your phone or the TV. Really pay attention to what they have to say. Give them time to finish their thoughts, even if it takes a bit longer than usual. Listen with empathy and without judgement. Even if you don’t understand the problem or you see the problem in a different way, your main concern is the distress or difficult feelings your loved one is experiencing. You can find in-depth tips on listening and communicating well in Module Three of the Family Toolkit. Some people are not ready to talk about everything at once, or at all. That’s okay! Respect your loved one’s boundaries and let them tell you when they’re ready to talk. \n",
            " Symptoms of schizophrenia like hallucinations (sensations that aren’t real, like hearing voices) or delusions (beliefs that can’t be true, like believing that you are being followed by a spy) can take some time to stop even when people are receiving treatment and following their treatment plan. As a group, these very distressing symptoms are called psychosis. Many people have a hard time responding to a loved one’s hallucinations or delusions. It’s best to avoid arguing about these experiences. Remember that delusion are symptoms of schizophrenia—they are not thoughts that you can talk someone out of. Telling someone that their experiences aren’t real or aren’t true doesn’t help when the experiences feel very real to that person! A better approach is to empathize with the feelings that hallucinations or delusions bring up—without confirming or denying the hallucination or delusion. For example, if a loved one is frustrated or upset when they hear voices, it isn’t helpful to say something like, “You’re okay! It isn’t real. I don’t hear anything.” Instead, you might say, “I can only image how upsetting that voice must be. I can see the voice makes you feel scared.” Know that with good treatment and support, symptoms like hallucinations and delusions become much easier for people to manage and lose importance. \n",
            " Ask how you can help. When people experience a serious mental illness like schizophrenia, they may want to plan how they can take action if they start to feel unwell again, especially if they have dependent children. These plans, such as advanced directives or Ulysses Agreements, are made when a person feels well and are meant to communicate their wishes to loved ones and their care team. Ask your loved one if they have a plan in place so you know what they need if they need help. If you’d like to learn more about planning for care, see the BC Schizophrenia Society. \n",
            " If a loved one is experiencing an episode of psychosis or is recovering for an episode of psychosis, they might need extra help. For example, people who are actively experiencing hallucinations or delusions might need a lot of personal space and feel uncomfortable being around a lot of people or even making eye contact. When people are recovering from an episode of psychosis, they may need a quiet space and a lot of rest. Sometimes people can get back into their usual routines fairly quickly, while other times it may take a lot of time (and effort) to get back into routines. Keep in mind that too much help can be a bit counterproductive. It may well be faster and easier for you to take care of your loved one’s tasks or chores yourself, but rebuilding activity and confidence are a big part of recovery. Encourage and support your loved one as they take on daily responsibilities, and let them tell you when they need extra help. \n",
            " Schizophrenia can be a difficult illness—for everyone. During episodes of psychosis, your loved one may experience frightening sensations that you can’t understand. They may act in ways that you don’t understand. Other symptoms of schizophrenia can make it hard for people to express emotions or feelings, communicate clearly, or seem interested in others. It’s important to know that these are symptoms of an illness. They are no one’s fault, but they can still be hard to cope with. Consider reaching out to a family and friends support group for your own support. The BC Schizophrenia Society has a directory of groups around BC at www.bcss.org/monthly-meetings-calendar/. \n",
            " As a family member, it’s important to take care of yourself. Try to maintain your regular schedule and activities, such as your exercise routine and hobbies. Ask another family member or good friend to provide help with caregiving, especially in the early days of your loved one's illness. If you need help balancing time for self-care with caregiving duties, check out the BC Schizophrenia Society’s Family Respite Program. \n",
            " Try to maintain your friendships or the network of people that you have in your life. These will later become important supports as your loved one recovers. Educate them and update them on your loved one's recovery. People are sometimes afraid to ask questions about schizophrenia and this will put them at ease. \n",
            " This is very important! You are not responsible for your loved one’s treatment (unless your loved one is your child under 19), but you can support them. Schizophrenia can make it difficult for people to make and go to appointments and follow their treatment plan. With your loved one’s permission, you may choose to help by reminding them of appointments, taking them to appointments, or whatever helps in your situation. If your loved one isn’t happy with their treatment or would like to try a new approach, you can encourage them to talk with their care team, like their doctor or mental health team—it can be dangerous to stop or change a treatment without a doctor’s support. \n",
            " Treatment can be a difficult area for loved ones. It’s hard to see someone you love in pain. You might be scared of the things your loved one is experiencing. You want to help. But in order for any treatment to work, your loved one needs to be active in their care. Forcing or threatening treatment generally doesn’t work (or if it does, in the case of an emergency, only for a short time) and can often hurt everyone involved. In most cases, anyone 19 years of age and older and not at risk of harm is free to make their own choices. And their choices may include refusing treatment or choosing a treatment that you disagree with. It helps everyone if you can be respectful and keep honest communication open between you. You can learn more about dealing with this situation in Q&A: An adult in my life seems ill and won’t find help. What can I do?. \n",
            " If you think your loved one is at risk of harming themselves or others and they refuse help, it is possible to have them evaluated by a psychiatrist under the Mental Health Act. This process may involve police and other first responders, and it can be a difficult and stressful process for everyone. But it can also be a necessary step if someone is in danger. You can learn more about the Mental Health Act in the info sheet Families Coping with a Crisis and you can find the Guide to the Mental Health Act at www.health.gov.bc.ca/library/publications/year/2005/MentalHealthGuide.pdf. For a more in-depth discussion of the Mental Health Act, see a video with lawyer and health law consultation Gerrit Clements. \n",
            " If your loved one says that they have thoughts of ending their life, it’s important to take action. Call 1-800-SUICIDE (1-800-784-2433) at any time or message online at www.crisiscentrechat.ca between noon and 1am. If you think your loved one is in immediate danger, you can always call 911 or go to a hospital emergency room.\n",
            "the JSON object must be str, bytes or bytearray, not NoneType\n",
            "Error translating text: Cannabidiol or CBD is a naturally occurring component of cannabis. It is extracted from the cannabis plant and often made into an oil for use. CBD is not psychoactive, and does not produce the ‘high’ of THC (tetrahyrocannabinol), the primary psychoactive component of cannabis. CBD is legal in Canada and has been used in the treatment of various medical conditions. \n",
            " All cannabinoids, including CBD, produce effects in the body by attaching to certain receptors in the brain or immune system. The human body also produces its own cannabinoids. It seems that CBD does not attach directly to receptors. Instead, it directs the body to use more of its own cannabinoids to produce the therapeutic effects associated with CBD. \n",
            " Research suggests that CBD may provide relief for chronic pain. Sativex is a proprietary medication that combines THC and CBD and may be prescribed for the relief of pain associated with multiple sclerosis. There is also some evidence suggesting that CBD may be a promising support for people with opioid use disorders. The researchers noted that CBD reduced some symptoms associated with substance use disorders including anxiety, mood-related symptoms, pain, and insomnia. \n",
            " After researching the safety and effectiveness of CBD oil for treating epilepsy, in 2018, the United States FDA approved CBD (Epidiolex) as a therapy for two rare conditions characterized by epileptic seizures. Other evidence suggests that CBD may be useful in the treatment of schizophrenia, though further research is needed before introducing CBD into medical practice. \n",
            " There is some initial evidence that CBD may help people in the early stages of Alzheimer's disease keep the ability to recognize the faces of people that they know, and thus slow progression of the illness. Again, more research is needed in this area. \n",
            " Because of the way cannabis and its products are metabolized, scientists believe there is a potential for interaction with other drugs, although nothing significant has yet been recorded. CBD has been found to be generally safe. Reports from patients indicate that negative drug interactions are not common. As with any other treatment, it is important to monitor your use of CBD and seek assistance if you experience any problems or have questions or concerns about its use. \n",
            " The Canadian Institute for Substance Use Research, formerly CARBC, is a member of the BC Partners for Mental Health and Addictions Information. The institute is dedicated to the study of substance use in support of community-wide efforts aimed at providing all people with access to healthier lives, whether using substances or not. For more, visit www.cisur.ca.\n",
            "'Translator' object has no attribute 'raise_Exception'\n"
          ]
        }
      ]
    },
    {
      "cell_type": "code",
      "source": [
        "!pip install googletrans==4.0.0-rc1"
      ],
      "metadata": {
        "colab": {
          "base_uri": "https://localhost:8080/",
          "height": 979
        },
        "id": "ydu4lTE_z1An",
        "outputId": "f9ba007e-b581-4f8e-fe83-5c8528a03e87"
      },
      "execution_count": null,
      "outputs": [
        {
          "output_type": "stream",
          "name": "stdout",
          "text": [
            "Collecting googletrans==4.0.0-rc1\n",
            "  Downloading googletrans-4.0.0rc1.tar.gz (20 kB)\n",
            "  Preparing metadata (setup.py) ... \u001b[?25l\u001b[?25hdone\n",
            "Collecting httpx==0.13.3 (from googletrans==4.0.0-rc1)\n",
            "  Downloading httpx-0.13.3-py3-none-any.whl (55 kB)\n",
            "\u001b[2K     \u001b[90m━━━━━━━━━━━━━━━━━━━━━━━━━━━━━━━━━━━━━━━━\u001b[0m \u001b[32m55.1/55.1 kB\u001b[0m \u001b[31m2.2 MB/s\u001b[0m eta \u001b[36m0:00:00\u001b[0m\n",
            "\u001b[?25hRequirement already satisfied: certifi in /usr/local/lib/python3.10/dist-packages (from httpx==0.13.3->googletrans==4.0.0-rc1) (2024.2.2)\n",
            "Collecting hstspreload (from httpx==0.13.3->googletrans==4.0.0-rc1)\n",
            "  Downloading hstspreload-2024.5.1-py3-none-any.whl (1.1 MB)\n",
            "\u001b[2K     \u001b[90m━━━━━━━━━━━━━━━━━━━━━━━━━━━━━━━━━━━━━━━━\u001b[0m \u001b[32m1.1/1.1 MB\u001b[0m \u001b[31m7.4 MB/s\u001b[0m eta \u001b[36m0:00:00\u001b[0m\n",
            "\u001b[?25hRequirement already satisfied: sniffio in /usr/local/lib/python3.10/dist-packages (from httpx==0.13.3->googletrans==4.0.0-rc1) (1.3.1)\n",
            "Collecting chardet==3.* (from httpx==0.13.3->googletrans==4.0.0-rc1)\n",
            "  Downloading chardet-3.0.4-py2.py3-none-any.whl (133 kB)\n",
            "\u001b[2K     \u001b[90m━━━━━━━━━━━━━━━━━━━━━━━━━━━━━━━━━━━━━━━━\u001b[0m \u001b[32m133.4/133.4 kB\u001b[0m \u001b[31m10.6 MB/s\u001b[0m eta \u001b[36m0:00:00\u001b[0m\n",
            "\u001b[?25hCollecting idna==2.* (from httpx==0.13.3->googletrans==4.0.0-rc1)\n",
            "  Downloading idna-2.10-py2.py3-none-any.whl (58 kB)\n",
            "\u001b[2K     \u001b[90m━━━━━━━━━━━━━━━━━━━━━━━━━━━━━━━━━━━━━━━━\u001b[0m \u001b[32m58.8/58.8 kB\u001b[0m \u001b[31m8.6 MB/s\u001b[0m eta \u001b[36m0:00:00\u001b[0m\n",
            "\u001b[?25hCollecting rfc3986<2,>=1.3 (from httpx==0.13.3->googletrans==4.0.0-rc1)\n",
            "  Downloading rfc3986-1.5.0-py2.py3-none-any.whl (31 kB)\n",
            "Collecting httpcore==0.9.* (from httpx==0.13.3->googletrans==4.0.0-rc1)\n",
            "  Downloading httpcore-0.9.1-py3-none-any.whl (42 kB)\n",
            "\u001b[2K     \u001b[90m━━━━━━━━━━━━━━━━━━━━━━━━━━━━━━━━━━━━━━━━\u001b[0m \u001b[32m42.6/42.6 kB\u001b[0m \u001b[31m6.6 MB/s\u001b[0m eta \u001b[36m0:00:00\u001b[0m\n",
            "\u001b[?25hCollecting h11<0.10,>=0.8 (from httpcore==0.9.*->httpx==0.13.3->googletrans==4.0.0-rc1)\n",
            "  Downloading h11-0.9.0-py2.py3-none-any.whl (53 kB)\n",
            "\u001b[2K     \u001b[90m━━━━━━━━━━━━━━━━━━━━━━━━━━━━━━━━━━━━━━━━\u001b[0m \u001b[32m53.6/53.6 kB\u001b[0m \u001b[31m9.1 MB/s\u001b[0m eta \u001b[36m0:00:00\u001b[0m\n",
            "\u001b[?25hCollecting h2==3.* (from httpcore==0.9.*->httpx==0.13.3->googletrans==4.0.0-rc1)\n",
            "  Downloading h2-3.2.0-py2.py3-none-any.whl (65 kB)\n",
            "\u001b[2K     \u001b[90m━━━━━━━━━━━━━━━━━━━━━━━━━━━━━━━━━━━━━━━━\u001b[0m \u001b[32m65.0/65.0 kB\u001b[0m \u001b[31m8.4 MB/s\u001b[0m eta \u001b[36m0:00:00\u001b[0m\n",
            "\u001b[?25hCollecting hyperframe<6,>=5.2.0 (from h2==3.*->httpcore==0.9.*->httpx==0.13.3->googletrans==4.0.0-rc1)\n",
            "  Downloading hyperframe-5.2.0-py2.py3-none-any.whl (12 kB)\n",
            "Collecting hpack<4,>=3.0 (from h2==3.*->httpcore==0.9.*->httpx==0.13.3->googletrans==4.0.0-rc1)\n",
            "  Downloading hpack-3.0.0-py2.py3-none-any.whl (38 kB)\n",
            "Building wheels for collected packages: googletrans\n",
            "  Building wheel for googletrans (setup.py) ... \u001b[?25l\u001b[?25hdone\n",
            "  Created wheel for googletrans: filename=googletrans-4.0.0rc1-py3-none-any.whl size=17395 sha256=f3a60172e167da6211b2b27c279b38fa1480dea828e43fb2864b957b2ae4467c\n",
            "  Stored in directory: /root/.cache/pip/wheels/c0/59/9f/7372f0cf70160fe61b528532e1a7c8498c4becd6bcffb022de\n",
            "Successfully built googletrans\n",
            "Installing collected packages: rfc3986, hyperframe, hpack, h11, chardet, idna, hstspreload, h2, httpcore, httpx, googletrans\n",
            "  Attempting uninstall: chardet\n",
            "    Found existing installation: chardet 5.2.0\n",
            "    Uninstalling chardet-5.2.0:\n",
            "      Successfully uninstalled chardet-5.2.0\n",
            "  Attempting uninstall: idna\n",
            "    Found existing installation: idna 3.7\n",
            "    Uninstalling idna-3.7:\n",
            "      Successfully uninstalled idna-3.7\n",
            "Successfully installed chardet-3.0.4 googletrans-4.0.0rc1 h11-0.9.0 h2-3.2.0 hpack-3.0.0 hstspreload-2024.5.1 httpcore-0.9.1 httpx-0.13.3 hyperframe-5.2.0 idna-2.10 rfc3986-1.5.0\n"
          ]
        },
        {
          "output_type": "display_data",
          "data": {
            "application/vnd.colab-display-data+json": {
              "pip_warning": {
                "packages": [
                  "chardet",
                  "idna"
                ]
              },
              "id": "65fe3fb50aed4a7b86eab062fc006ad7"
            }
          },
          "metadata": {}
        }
      ]
    }
  ]
}